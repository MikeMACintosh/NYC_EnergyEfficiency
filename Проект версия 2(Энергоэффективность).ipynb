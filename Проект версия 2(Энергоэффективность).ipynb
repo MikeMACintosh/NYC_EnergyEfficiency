{
 "cells": [
  {
   "cell_type": "code",
   "execution_count": 3,
   "metadata": {},
   "outputs": [],
   "source": [
    "import pandas as pd\n",
    "import numpy as np\n",
    "import matplotlib.pyplot as plt\n",
    "import seaborn as sns\n",
    "%matplotlib inline\n",
    "\n",
    "from sklearn.linear_model import LinearRegression\n",
    "from sklearn.model_selection import train_test_split, GridSearchCV\n",
    "from sklearn.metrics import mean_squared_error, mean_absolute_error, r2_score\n",
    "from sklearn.preprocessing import OneHotEncoder\n",
    "import sklearn\n",
    "from sklearn.ensemble import RandomForestRegressor\n",
    "from sklearn.preprocessing import LabelEncoder\n",
    "\n"
   ]
  },
  {
   "cell_type": "code",
   "execution_count": 4,
   "metadata": {},
   "outputs": [
    {
     "data": {
      "text/plain": [
       "(34355, 60)"
      ]
     },
     "execution_count": 4,
     "metadata": {},
     "output_type": "execute_result"
    }
   ],
   "source": [
    "xl = pd.ExcelFile(\"nyc_data.xlsx\")\n",
    "df = xl.parse()\n",
    "df.shape\n",
    "\n",
    "# Целевая переменная 'ENERGY STAR Score'"
   ]
  },
  {
   "cell_type": "code",
   "execution_count": 5,
   "metadata": {},
   "outputs": [],
   "source": [
    "df = df.replace('Not found', np.nan)\n"
   ]
  },
  {
   "cell_type": "code",
   "execution_count": 6,
   "metadata": {},
   "outputs": [],
   "source": [
    "# data = data.dropna(axis=1, how='any')"
   ]
  },
  {
   "cell_type": "code",
   "execution_count": 7,
   "metadata": {},
   "outputs": [
    {
     "data": {
      "text/plain": [
       "False    25454\n",
       "True      8901\n",
       "Name: ENERGY STAR Score, dtype: int64"
      ]
     },
     "execution_count": 7,
     "metadata": {},
     "output_type": "execute_result"
    }
   ],
   "source": [
    "df['ENERGY STAR Score'].isna().value_counts()"
   ]
  },
  {
   "cell_type": "code",
   "execution_count": 8,
   "metadata": {},
   "outputs": [
    {
     "data": {
      "text/plain": [
       "(25454, 60)"
      ]
     },
     "execution_count": 8,
     "metadata": {},
     "output_type": "execute_result"
    }
   ],
   "source": [
    "df = df.dropna(subset=['ENERGY STAR Score'])\n",
    "# df['ENERGY STAR Score'].isna().value_counts()\n",
    "columns = df.isna().sum()\n",
    "df.shape\n"
   ]
  },
  {
   "cell_type": "code",
   "execution_count": 9,
   "metadata": {},
   "outputs": [
    {
     "data": {
      "text/html": [
       "<div>\n",
       "<style scoped>\n",
       "    .dataframe tbody tr th:only-of-type {\n",
       "        vertical-align: middle;\n",
       "    }\n",
       "\n",
       "    .dataframe tbody tr th {\n",
       "        vertical-align: top;\n",
       "    }\n",
       "\n",
       "    .dataframe thead th {\n",
       "        text-align: right;\n",
       "    }\n",
       "</style>\n",
       "<table border=\"1\" class=\"dataframe\">\n",
       "  <thead>\n",
       "    <tr style=\"text-align: right;\">\n",
       "      <th></th>\n",
       "      <th>Order</th>\n",
       "      <th>Property Id</th>\n",
       "      <th>Property Name</th>\n",
       "      <th>Parent Property Id</th>\n",
       "      <th>Parent Property Name</th>\n",
       "      <th>BBL - 10 digits</th>\n",
       "      <th>NYC Borough, Block and Lot (BBL) self-reported</th>\n",
       "      <th>NYC Building Identification Number (BIN)</th>\n",
       "      <th>Address 1 (self-reported)</th>\n",
       "      <th>Address 2 (self-reported)</th>\n",
       "      <th>...</th>\n",
       "      <th>Electricity Use - Grid Purchase (kWh)</th>\n",
       "      <th>Weather Normalized Site Electricity (kWh)</th>\n",
       "      <th>Annual Maximum Demand (kW)</th>\n",
       "      <th>Annual Maximum Demand (MM/YYYY)</th>\n",
       "      <th>Total GHG Emissions (Metric Tons CO2e)</th>\n",
       "      <th>Direct GHG Emissions (Metric Tons CO2e)</th>\n",
       "      <th>Indirect GHG Emissions (Metric Tons CO2e)</th>\n",
       "      <th>Water Use (All Water Sources) (kgal)</th>\n",
       "      <th>Water Use Intensity (All Water Sources) (gal/ft²)</th>\n",
       "      <th>Generation Date</th>\n",
       "    </tr>\n",
       "  </thead>\n",
       "  <tbody>\n",
       "    <tr>\n",
       "      <th>0</th>\n",
       "      <td>1</td>\n",
       "      <td>4593574</td>\n",
       "      <td>The Argonaut Building</td>\n",
       "      <td>NaN</td>\n",
       "      <td>NaN</td>\n",
       "      <td>1.010288e+09</td>\n",
       "      <td>1010287502</td>\n",
       "      <td>1024898</td>\n",
       "      <td>224 West 57th St</td>\n",
       "      <td>NaN</td>\n",
       "      <td>...</td>\n",
       "      <td>1920103.6</td>\n",
       "      <td>1920103.6</td>\n",
       "      <td>NaN</td>\n",
       "      <td>NaT</td>\n",
       "      <td>732.4</td>\n",
       "      <td>76.3</td>\n",
       "      <td>656.1</td>\n",
       "      <td>3635.5</td>\n",
       "      <td>21.46</td>\n",
       "      <td>2018-02-14</td>\n",
       "    </tr>\n",
       "    <tr>\n",
       "      <th>1</th>\n",
       "      <td>3</td>\n",
       "      <td>2967701</td>\n",
       "      <td>Cathedral Preparatory Seminary</td>\n",
       "      <td>NaN</td>\n",
       "      <td>NaN</td>\n",
       "      <td>4.018720e+09</td>\n",
       "      <td>4-01872-0007</td>\n",
       "      <td>4046340</td>\n",
       "      <td>56-25 92nd Street</td>\n",
       "      <td>NaN</td>\n",
       "      <td>...</td>\n",
       "      <td>180640.0</td>\n",
       "      <td>184131.9</td>\n",
       "      <td>NaN</td>\n",
       "      <td>NaT</td>\n",
       "      <td>164.5</td>\n",
       "      <td>109.9</td>\n",
       "      <td>54.6</td>\n",
       "      <td>102.9</td>\n",
       "      <td>1.09</td>\n",
       "      <td>2018-02-14</td>\n",
       "    </tr>\n",
       "    <tr>\n",
       "      <th>2</th>\n",
       "      <td>4</td>\n",
       "      <td>4898531</td>\n",
       "      <td>The Nomad Hotel</td>\n",
       "      <td>NaN</td>\n",
       "      <td>NaN</td>\n",
       "      <td>1.008290e+09</td>\n",
       "      <td>1-00829-0050</td>\n",
       "      <td>1080710</td>\n",
       "      <td>1170 Broadway</td>\n",
       "      <td>NaN</td>\n",
       "      <td>...</td>\n",
       "      <td>2354605.3</td>\n",
       "      <td>2354605.3</td>\n",
       "      <td>NaN</td>\n",
       "      <td>NaT</td>\n",
       "      <td>1150.2</td>\n",
       "      <td>438.0</td>\n",
       "      <td>712.3</td>\n",
       "      <td>10762.6</td>\n",
       "      <td>86.10</td>\n",
       "      <td>2018-02-14</td>\n",
       "    </tr>\n",
       "    <tr>\n",
       "      <th>3</th>\n",
       "      <td>5</td>\n",
       "      <td>2917939</td>\n",
       "      <td>10 West 27 Street Corp</td>\n",
       "      <td>NaN</td>\n",
       "      <td>NaN</td>\n",
       "      <td>1.008280e+09</td>\n",
       "      <td>1-00828-0053</td>\n",
       "      <td>1015657</td>\n",
       "      <td>1155 Broadway</td>\n",
       "      <td>NaN</td>\n",
       "      <td>...</td>\n",
       "      <td>579335.2</td>\n",
       "      <td>582516.1</td>\n",
       "      <td>NaN</td>\n",
       "      <td>NaT</td>\n",
       "      <td>273.4</td>\n",
       "      <td>98.2</td>\n",
       "      <td>175.3</td>\n",
       "      <td>790.1</td>\n",
       "      <td>15.80</td>\n",
       "      <td>2018-02-14</td>\n",
       "    </tr>\n",
       "    <tr>\n",
       "      <th>4</th>\n",
       "      <td>6</td>\n",
       "      <td>3878205</td>\n",
       "      <td>Westbury Realty</td>\n",
       "      <td>NaN</td>\n",
       "      <td>NaN</td>\n",
       "      <td>1.000650e+09</td>\n",
       "      <td>1-00065-0024</td>\n",
       "      <td>1001105</td>\n",
       "      <td>24 John Street</td>\n",
       "      <td>NaN</td>\n",
       "      <td>...</td>\n",
       "      <td>299809.9</td>\n",
       "      <td>299809.9</td>\n",
       "      <td>NaN</td>\n",
       "      <td>NaT</td>\n",
       "      <td>90.7</td>\n",
       "      <td>0.0</td>\n",
       "      <td>90.7</td>\n",
       "      <td>143.0</td>\n",
       "      <td>2.86</td>\n",
       "      <td>2018-02-14</td>\n",
       "    </tr>\n",
       "  </tbody>\n",
       "</table>\n",
       "<p>5 rows × 54 columns</p>\n",
       "</div>"
      ],
      "text/plain": [
       "   Order  Property Id                   Property Name Parent Property Id  \\\n",
       "0      1      4593574           The Argonaut Building                NaN   \n",
       "1      3      2967701  Cathedral Preparatory Seminary                NaN   \n",
       "2      4      4898531                 The Nomad Hotel                NaN   \n",
       "3      5      2917939          10 West 27 Street Corp                NaN   \n",
       "4      6      3878205                 Westbury Realty                NaN   \n",
       "\n",
       "  Parent Property Name  BBL - 10 digits  \\\n",
       "0                  NaN     1.010288e+09   \n",
       "1                  NaN     4.018720e+09   \n",
       "2                  NaN     1.008290e+09   \n",
       "3                  NaN     1.008280e+09   \n",
       "4                  NaN     1.000650e+09   \n",
       "\n",
       "  NYC Borough, Block and Lot (BBL) self-reported  \\\n",
       "0                                     1010287502   \n",
       "1                                   4-01872-0007   \n",
       "2                                   1-00829-0050   \n",
       "3                                   1-00828-0053   \n",
       "4                                   1-00065-0024   \n",
       "\n",
       "  NYC Building Identification Number (BIN) Address 1 (self-reported)  \\\n",
       "0                                  1024898          224 West 57th St   \n",
       "1                                  4046340         56-25 92nd Street   \n",
       "2                                  1080710             1170 Broadway   \n",
       "3                                  1015657             1155 Broadway   \n",
       "4                                  1001105            24 John Street   \n",
       "\n",
       "  Address 2 (self-reported)  ... Electricity Use - Grid Purchase (kWh)  \\\n",
       "0                       NaN  ...                             1920103.6   \n",
       "1                       NaN  ...                              180640.0   \n",
       "2                       NaN  ...                             2354605.3   \n",
       "3                       NaN  ...                              579335.2   \n",
       "4                       NaN  ...                              299809.9   \n",
       "\n",
       "  Weather Normalized Site Electricity (kWh)  Annual Maximum Demand (kW)  \\\n",
       "0                                 1920103.6                         NaN   \n",
       "1                                  184131.9                         NaN   \n",
       "2                                 2354605.3                         NaN   \n",
       "3                                  582516.1                         NaN   \n",
       "4                                  299809.9                         NaN   \n",
       "\n",
       "  Annual Maximum Demand (MM/YYYY) Total GHG Emissions (Metric Tons CO2e)  \\\n",
       "0                             NaT                                  732.4   \n",
       "1                             NaT                                  164.5   \n",
       "2                             NaT                                 1150.2   \n",
       "3                             NaT                                  273.4   \n",
       "4                             NaT                                   90.7   \n",
       "\n",
       "  Direct GHG Emissions (Metric Tons CO2e)  \\\n",
       "0                                    76.3   \n",
       "1                                   109.9   \n",
       "2                                   438.0   \n",
       "3                                    98.2   \n",
       "4                                     0.0   \n",
       "\n",
       "   Indirect GHG Emissions (Metric Tons CO2e)  \\\n",
       "0                                      656.1   \n",
       "1                                       54.6   \n",
       "2                                      712.3   \n",
       "3                                      175.3   \n",
       "4                                       90.7   \n",
       "\n",
       "  Water Use (All Water Sources) (kgal)  \\\n",
       "0                               3635.5   \n",
       "1                                102.9   \n",
       "2                              10762.6   \n",
       "3                                790.1   \n",
       "4                                143.0   \n",
       "\n",
       "   Water Use Intensity (All Water Sources) (gal/ft²) Generation Date  \n",
       "0                                              21.46      2018-02-14  \n",
       "1                                               1.09      2018-02-14  \n",
       "2                                              86.10      2018-02-14  \n",
       "3                                              15.80      2018-02-14  \n",
       "4                                               2.86      2018-02-14  \n",
       "\n",
       "[5 rows x 54 columns]"
      ]
     },
     "execution_count": 9,
     "metadata": {},
     "output_type": "execute_result"
    }
   ],
   "source": [
    "df = df.dropna(axis=1, how='all')\n",
    "df.head()"
   ]
  },
  {
   "cell_type": "code",
   "execution_count": 10,
   "metadata": {},
   "outputs": [
    {
     "name": "stdout",
     "output_type": "stream",
     "text": [
      "Всего строк: 25454\n",
      "Строк без пропусков: 0\n"
     ]
    }
   ],
   "source": [
    "print('Всего строк: {}'.format(len(df)))\n",
    "print('Строк без пропусков: {}'.format(len(df.dropna(axis=0, how='any'))))"
   ]
  },
  {
   "cell_type": "code",
   "execution_count": 11,
   "metadata": {},
   "outputs": [
    {
     "data": {
      "text/plain": [
       "Order                                                                  int64\n",
       "Property Id                                                            int64\n",
       "Property Name                                                         object\n",
       "Parent Property Id                                                    object\n",
       "Parent Property Name                                                  object\n",
       "BBL - 10 digits                                                      float64\n",
       "NYC Borough, Block and Lot (BBL) self-reported                        object\n",
       "NYC Building Identification Number (BIN)                              object\n",
       "Address 1 (self-reported)                                             object\n",
       "Address 2 (self-reported)                                             object\n",
       "Postal Code                                                           object\n",
       "Borough                                                               object\n",
       "Self-Reported Gross Floor Area (ft²)                                   int64\n",
       "Primary Property Type - Self Selected                                 object\n",
       "List of All Property Use Types at Property                            object\n",
       "Largest Property Use Type                                             object\n",
       "Largest Property Use Type - Gross Floor Area (ft²)                   float64\n",
       "2nd Largest Property Use Type                                         object\n",
       "2nd Largest Property Use - Gross Floor Area (ft²)                    float64\n",
       "3rd Largest Property Use Type                                         object\n",
       "3rd Largest Property Use Type - Gross Floor Area (ft²)               float64\n",
       "Year Built                                                             int64\n",
       "Number of Buildings                                                    int64\n",
       "Occupancy                                                              int64\n",
       "Metered Areas (Energy)                                                object\n",
       "Metered Areas  (Water)                                                object\n",
       "ENERGY STAR Score                                                    float64\n",
       "Source EUI (kBtu/ft²)                                                float64\n",
       "Weather Normalized Source EUI (kBtu/ft²)                             float64\n",
       "Site EUI (kBtu/ft²)                                                  float64\n",
       "Weather Normalized Site EUI (kBtu/ft²)                               float64\n",
       "Weather Normalized Site Electricity Intensity (kWh/ft²)              float64\n",
       "Weather Normalized Site Natural Gas Intensity (therms/ft²)           float64\n",
       "Fuel Oil #1 Use (kBtu)                                               float64\n",
       "Fuel Oil #2 Use (kBtu)                                               float64\n",
       "Fuel Oil #4 Use (kBtu)                                               float64\n",
       "Fuel Oil #5 & 6 Use (kBtu)                                           float64\n",
       "Diesel #2 Use (kBtu)                                                 float64\n",
       "District Steam Use (kBtu)                                            float64\n",
       "District Hot Water Use (kBtu)                                        float64\n",
       "District Chilled Water Use (kBtu)                                    float64\n",
       "Natural Gas Use (kBtu)                                               float64\n",
       "Weather Normalized Site Natural Gas Use (therms)                     float64\n",
       "Electricity Use - Grid Purchase (kBtu)                               float64\n",
       "Electricity Use - Grid Purchase (kWh)                                float64\n",
       "Weather Normalized Site Electricity (kWh)                            float64\n",
       "Annual Maximum Demand (kW)                                           float64\n",
       "Annual Maximum Demand (MM/YYYY)                               datetime64[ns]\n",
       "Total GHG Emissions (Metric Tons CO2e)                               float64\n",
       "Direct GHG Emissions (Metric Tons CO2e)                              float64\n",
       "Indirect GHG Emissions (Metric Tons CO2e)                            float64\n",
       "Water Use (All Water Sources) (kgal)                                 float64\n",
       "Water Use Intensity (All Water Sources) (gal/ft²)                    float64\n",
       "Generation Date                                               datetime64[ns]\n",
       "dtype: object"
      ]
     },
     "execution_count": 11,
     "metadata": {},
     "output_type": "execute_result"
    }
   ],
   "source": [
    "df.dtypes"
   ]
  },
  {
   "cell_type": "code",
   "execution_count": 12,
   "metadata": {},
   "outputs": [],
   "source": [
    "# Колонки с количеством пропусков больше 15 000(почти половина от всех данных)\n",
    "columns_to_drop = ['Parent Property Id','Parent Property Name', 'Address 2 (self-reported)', \n",
    "                   '2nd Largest Property Use Type', '2nd Largest Property Use - Gross Floor Area (ft²)', \n",
    "                   '3rd Largest Property Use Type', '3rd Largest Property Use Type - Gross Floor Area (ft²)',\n",
    "                   'Fuel Oil #1 Use (kBtu)', 'Fuel Oil #2 Use (kBtu)', 'Fuel Oil #4 Use (kBtu)', 'Fuel Oil #5 & 6 Use (kBtu)', \n",
    "                   'Diesel #2 Use (kBtu)', 'District Steam Use (kBtu)', 'District Hot Water Use (kBtu)', \n",
    "                   'District Chilled Water Use (kBtu)', 'Annual Maximum Demand (kW)', 'Annual Maximum Demand (MM/YYYY)'\n",
    "                  ]\n",
    "\n",
    "df = df.drop(columns_to_drop, axis=1)\n"
   ]
  },
  {
   "cell_type": "code",
   "execution_count": 13,
   "metadata": {},
   "outputs": [
    {
     "data": {
      "text/plain": [
       "(25454, 37)"
      ]
     },
     "execution_count": 13,
     "metadata": {},
     "output_type": "execute_result"
    }
   ],
   "source": [
    "df.shape"
   ]
  },
  {
   "cell_type": "code",
   "execution_count": 22,
   "metadata": {},
   "outputs": [],
   "source": [
    "def get_nan_columns(n):\n",
    "    '''\n",
    "    Выводит столбцы, в которых NaN значений больше n, и количество NaN в них.\n",
    "    '''\n",
    "    columns = df.isna().sum()\n",
    "    columns_list = []\n",
    "    for column in range(len(columns)):\n",
    "        if columns[[column]][0] > n:\n",
    "            columns_list.append(columns[[column]])\n",
    "    return columns_list"
   ]
  },
  {
   "cell_type": "code",
   "execution_count": 23,
   "metadata": {},
   "outputs": [
    {
     "data": {
      "text/plain": [
       "[NYC Building Identification Number (BIN)    751\n",
       " dtype: int64,\n",
       " Metered Areas (Energy)    1545\n",
       " dtype: int64,\n",
       " Metered Areas  (Water)    14311\n",
       " dtype: int64,\n",
       " Weather Normalized Source EUI (kBtu/ft²)    2699\n",
       " dtype: int64,\n",
       " Weather Normalized Site EUI (kBtu/ft²)    2699\n",
       " dtype: int64,\n",
       " Weather Normalized Site Electricity Intensity (kWh/ft²)    823\n",
       " dtype: int64,\n",
       " Weather Normalized Site Natural Gas Intensity (therms/ft²)    2923\n",
       " dtype: int64,\n",
       " Natural Gas Use (kBtu)    2346\n",
       " dtype: int64,\n",
       " Weather Normalized Site Natural Gas Use (therms)    2923\n",
       " dtype: int64,\n",
       " Weather Normalized Site Electricity (kWh)    823\n",
       " dtype: int64,\n",
       " Water Use Intensity (All Water Sources) (gal/ft²)    11092\n",
       " dtype: int64]"
      ]
     },
     "execution_count": 23,
     "metadata": {},
     "output_type": "execute_result"
    }
   ],
   "source": [
    "get_nan_columns(500)"
   ]
  },
  {
   "cell_type": "code",
   "execution_count": null,
   "metadata": {},
   "outputs": [],
   "source": [
    "columns = df.isna().sum()"
   ]
  },
  {
   "cell_type": "code",
   "execution_count": null,
   "metadata": {},
   "outputs": [],
   "source": [
    "columns"
   ]
  },
  {
   "cell_type": "code",
   "execution_count": 16,
   "metadata": {},
   "outputs": [
    {
     "data": {
      "image/png": "[encoded data removed]",
      "text/plain": [
       "<Figure size 2160x1440 with 25 Axes>"
      ]
     },
     "metadata": {
      "needs_background": "light"
     },
     "output_type": "display_data"
    }
   ],
   "source": [
    "df.hist(figsize=(30,20));"
   ]
  },
  {
   "cell_type": "code",
   "execution_count": 17,
   "metadata": {},
   "outputs": [
    {
     "data": {
      "text/plain": [
       "count    14362.000000\n",
       "mean       106.919931\n",
       "std        793.038643\n",
       "min          0.000000\n",
       "25%         31.220000\n",
       "50%         52.550000\n",
       "75%         85.545000\n",
       "max      48315.320000\n",
       "Name: Water Use Intensity (All Water Sources) (gal/ft²), dtype: float64"
      ]
     },
     "execution_count": 17,
     "metadata": {},
     "output_type": "execute_result"
    }
   ],
   "source": [
    "df['Water Use Intensity (All Water Sources) (gal/ft²)'].describe()\n"
   ]
  },
  {
   "cell_type": "code",
   "execution_count": 18,
   "metadata": {},
   "outputs": [
    {
     "data": {
      "text/plain": [
       "<AxesSubplot:>"
      ]
     },
     "execution_count": 18,
     "metadata": {},
     "output_type": "execute_result"
    },
    {
     "data": {
      "image/png": "[encoded data removed]",
      "text/plain": [
       "<Figure size 432x288 with 1 Axes>"
      ]
     },
     "metadata": {
      "needs_background": "light"
     },
     "output_type": "display_data"
    }
   ],
   "source": [
    "df['Water Use Intensity (All Water Sources) (gal/ft²)'].hist(bins=30)"
   ]
  },
  {
   "cell_type": "code",
   "execution_count": 25,
   "metadata": {},
   "outputs": [
    {
     "ename": "NameError",
     "evalue": "name 'stat' is not defined",
     "output_type": "error",
     "traceback": [
      "\u001b[1;31m---------------------------------------------------------------------------\u001b[0m",
      "\u001b[1;31mNameError\u001b[0m                                 Traceback (most recent call last)",
      "\u001b[1;32m<ipython-input-25-c0a47a8ac789>\u001b[0m in \u001b[0;36m<module>\u001b[1;34m\u001b[0m\n\u001b[1;32m----> 1\u001b[1;33m \u001b[0mdf\u001b[0m\u001b[1;33m[\u001b[0m\u001b[1;34m'Water Use Intensity (All Water Sources) (gal/ft²)'\u001b[0m\u001b[1;33m]\u001b[0m \u001b[1;33m=\u001b[0m \u001b[0mdf\u001b[0m\u001b[1;33m.\u001b[0m\u001b[0mfillna\u001b[0m\u001b[1;33m(\u001b[0m\u001b[0mstat\u001b[0m\u001b[1;33m[\u001b[0m\u001b[1;34m'mean'\u001b[0m\u001b[1;33m]\u001b[0m\u001b[1;33m)\u001b[0m\u001b[1;33m\u001b[0m\u001b[1;33m\u001b[0m\u001b[0m\n\u001b[0m",
      "\u001b[1;31mNameError\u001b[0m: name 'stat' is not defined"
     ]
    }
   ],
   "source": [
    "df['Water Use Intensity (All Water Sources) (gal/ft²)'] = df.fillna(stat['mean'])"
   ]
  },
  {
   "cell_type": "code",
   "execution_count": 26,
   "metadata": {},
   "outputs": [
    {
     "data": {
      "text/plain": [
       "11092"
      ]
     },
     "execution_count": 26,
     "metadata": {},
     "output_type": "execute_result"
    }
   ],
   "source": [
    "df['Water Use Intensity (All Water Sources) (gal/ft²)'].isna().sum()"
   ]
  },
  {
   "cell_type": "code",
   "execution_count": 27,
   "metadata": {},
   "outputs": [
    {
     "ename": "KeyError",
     "evalue": "'Water Use (All Water Sources) (kgal)'",
     "output_type": "error",
     "traceback": [
      "\u001b[1;31m---------------------------------------------------------------------------\u001b[0m",
      "\u001b[1;31mKeyError\u001b[0m                                  Traceback (most recent call last)",
      "\u001b[1;32m~\\anaconda\\lib\\site-packages\\pandas\\core\\indexes\\base.py\u001b[0m in \u001b[0;36mget_loc\u001b[1;34m(self, key, method, tolerance)\u001b[0m\n\u001b[0;32m   2894\u001b[0m             \u001b[1;32mtry\u001b[0m\u001b[1;33m:\u001b[0m\u001b[1;33m\u001b[0m\u001b[1;33m\u001b[0m\u001b[0m\n\u001b[1;32m-> 2895\u001b[1;33m                 \u001b[1;32mreturn\u001b[0m \u001b[0mself\u001b[0m\u001b[1;33m.\u001b[0m\u001b[0m_engine\u001b[0m\u001b[1;33m.\u001b[0m\u001b[0mget_loc\u001b[0m\u001b[1;33m(\u001b[0m\u001b[0mcasted_key\u001b[0m\u001b[1;33m)\u001b[0m\u001b[1;33m\u001b[0m\u001b[1;33m\u001b[0m\u001b[0m\n\u001b[0m\u001b[0;32m   2896\u001b[0m             \u001b[1;32mexcept\u001b[0m \u001b[0mKeyError\u001b[0m \u001b[1;32mas\u001b[0m \u001b[0merr\u001b[0m\u001b[1;33m:\u001b[0m\u001b[1;33m\u001b[0m\u001b[1;33m\u001b[0m\u001b[0m\n",
      "\u001b[1;32mpandas\\_libs\\index.pyx\u001b[0m in \u001b[0;36mpandas._libs.index.IndexEngine.get_loc\u001b[1;34m()\u001b[0m\n",
      "\u001b[1;32mpandas\\_libs\\index.pyx\u001b[0m in \u001b[0;36mpandas._libs.index.IndexEngine.get_loc\u001b[1;34m()\u001b[0m\n",
      "\u001b[1;32mpandas\\_libs\\hashtable_class_helper.pxi\u001b[0m in \u001b[0;36mpandas._libs.hashtable.PyObjectHashTable.get_item\u001b[1;34m()\u001b[0m\n",
      "\u001b[1;32mpandas\\_libs\\hashtable_class_helper.pxi\u001b[0m in \u001b[0;36mpandas._libs.hashtable.PyObjectHashTable.get_item\u001b[1;34m()\u001b[0m\n",
      "\u001b[1;31mKeyError\u001b[0m: 'Water Use (All Water Sources) (kgal)'",
      "\nThe above exception was the direct cause of the following exception:\n",
      "\u001b[1;31mKeyError\u001b[0m                                  Traceback (most recent call last)",
      "\u001b[1;32m<ipython-input-27-c49f979eb070>\u001b[0m in \u001b[0;36m<module>\u001b[1;34m\u001b[0m\n\u001b[1;32m----> 1\u001b[1;33m \u001b[1;32mdel\u001b[0m \u001b[0mdf\u001b[0m\u001b[1;33m[\u001b[0m\u001b[1;34m'Water Use (All Water Sources) (kgal)'\u001b[0m\u001b[1;33m]\u001b[0m\u001b[1;33m\u001b[0m\u001b[1;33m\u001b[0m\u001b[0m\n\u001b[0m",
      "\u001b[1;32m~\\anaconda\\lib\\site-packages\\pandas\\core\\generic.py\u001b[0m in \u001b[0;36m__delitem__\u001b[1;34m(self, key)\u001b[0m\n\u001b[0;32m   3709\u001b[0m             \u001b[1;31m# there was no match, this call should raise the appropriate\u001b[0m\u001b[1;33m\u001b[0m\u001b[1;33m\u001b[0m\u001b[1;33m\u001b[0m\u001b[0m\n\u001b[0;32m   3710\u001b[0m             \u001b[1;31m# exception:\u001b[0m\u001b[1;33m\u001b[0m\u001b[1;33m\u001b[0m\u001b[1;33m\u001b[0m\u001b[0m\n\u001b[1;32m-> 3711\u001b[1;33m             \u001b[0mloc\u001b[0m \u001b[1;33m=\u001b[0m \u001b[0mself\u001b[0m\u001b[1;33m.\u001b[0m\u001b[0maxes\u001b[0m\u001b[1;33m[\u001b[0m\u001b[1;33m-\u001b[0m\u001b[1;36m1\u001b[0m\u001b[1;33m]\u001b[0m\u001b[1;33m.\u001b[0m\u001b[0mget_loc\u001b[0m\u001b[1;33m(\u001b[0m\u001b[0mkey\u001b[0m\u001b[1;33m)\u001b[0m\u001b[1;33m\u001b[0m\u001b[1;33m\u001b[0m\u001b[0m\n\u001b[0m\u001b[0;32m   3712\u001b[0m             \u001b[0mself\u001b[0m\u001b[1;33m.\u001b[0m\u001b[0m_mgr\u001b[0m\u001b[1;33m.\u001b[0m\u001b[0midelete\u001b[0m\u001b[1;33m(\u001b[0m\u001b[0mloc\u001b[0m\u001b[1;33m)\u001b[0m\u001b[1;33m\u001b[0m\u001b[1;33m\u001b[0m\u001b[0m\n\u001b[0;32m   3713\u001b[0m \u001b[1;33m\u001b[0m\u001b[0m\n",
      "\u001b[1;32m~\\anaconda\\lib\\site-packages\\pandas\\core\\indexes\\base.py\u001b[0m in \u001b[0;36mget_loc\u001b[1;34m(self, key, method, tolerance)\u001b[0m\n\u001b[0;32m   2895\u001b[0m                 \u001b[1;32mreturn\u001b[0m \u001b[0mself\u001b[0m\u001b[1;33m.\u001b[0m\u001b[0m_engine\u001b[0m\u001b[1;33m.\u001b[0m\u001b[0mget_loc\u001b[0m\u001b[1;33m(\u001b[0m\u001b[0mcasted_key\u001b[0m\u001b[1;33m)\u001b[0m\u001b[1;33m\u001b[0m\u001b[1;33m\u001b[0m\u001b[0m\n\u001b[0;32m   2896\u001b[0m             \u001b[1;32mexcept\u001b[0m \u001b[0mKeyError\u001b[0m \u001b[1;32mas\u001b[0m \u001b[0merr\u001b[0m\u001b[1;33m:\u001b[0m\u001b[1;33m\u001b[0m\u001b[1;33m\u001b[0m\u001b[0m\n\u001b[1;32m-> 2897\u001b[1;33m                 \u001b[1;32mraise\u001b[0m \u001b[0mKeyError\u001b[0m\u001b[1;33m(\u001b[0m\u001b[0mkey\u001b[0m\u001b[1;33m)\u001b[0m \u001b[1;32mfrom\u001b[0m \u001b[0merr\u001b[0m\u001b[1;33m\u001b[0m\u001b[1;33m\u001b[0m\u001b[0m\n\u001b[0m\u001b[0;32m   2898\u001b[0m \u001b[1;33m\u001b[0m\u001b[0m\n\u001b[0;32m   2899\u001b[0m         \u001b[1;32mif\u001b[0m \u001b[0mtolerance\u001b[0m \u001b[1;32mis\u001b[0m \u001b[1;32mnot\u001b[0m \u001b[1;32mNone\u001b[0m\u001b[1;33m:\u001b[0m\u001b[1;33m\u001b[0m\u001b[1;33m\u001b[0m\u001b[0m\n",
      "\u001b[1;31mKeyError\u001b[0m: 'Water Use (All Water Sources) (kgal)'"
     ]
    }
   ],
   "source": [
    "del df['Water Use (All Water Sources) (kgal)']"
   ]
  },
  {
   "cell_type": "code",
   "execution_count": 28,
   "metadata": {},
   "outputs": [
    {
     "data": {
      "text/plain": [
       "Whole Building                                       11116\n",
       "Tenant and/or common areas (partial energy loads)       12\n",
       "Common areas (all energy loads)                          9\n",
       "Another configuration                                    4\n",
       "Tenant areas (all energy loads)                          2\n",
       "Name: Metered Areas  (Water), dtype: int64"
      ]
     },
     "execution_count": 28,
     "metadata": {},
     "output_type": "execute_result"
    }
   ],
   "source": [
    "df['Metered Areas  (Water)'].value_counts()"
   ]
  },
  {
   "cell_type": "code",
   "execution_count": 29,
   "metadata": {},
   "outputs": [],
   "source": [
    "del df['Metered Areas  (Water)']"
   ]
  },
  {
   "cell_type": "code",
   "execution_count": 30,
   "metadata": {},
   "outputs": [
    {
     "data": {
      "text/plain": [
       "(25454, 35)"
      ]
     },
     "execution_count": 30,
     "metadata": {},
     "output_type": "execute_result"
    }
   ],
   "source": [
    "# len(df.dropna(axis=0, how='any'))\n",
    "df.shape"
   ]
  },
  {
   "cell_type": "code",
   "execution_count": 31,
   "metadata": {},
   "outputs": [],
   "source": [
    "drop_all_nan = df.dropna(axis=0, how='any').copy()"
   ]
  },
  {
   "cell_type": "code",
   "execution_count": 32,
   "metadata": {},
   "outputs": [
    {
     "data": {
      "text/plain": [
       "<AxesSubplot:>"
      ]
     },
     "execution_count": 32,
     "metadata": {},
     "output_type": "execute_result"
    },
    {
     "data": {
      "image/png": "[encoded data removed]",
      "text/plain": [
       "<Figure size 720x720 with 2 Axes>"
      ]
     },
     "metadata": {
      "needs_background": "light"
     },
     "output_type": "display_data"
    }
   ],
   "source": [
    "fig, ax = plt.subplots(figsize=(10,10))\n",
    "sns.heatmap(drop_all_nan.corr(), cmap= sns.color_palette(palette=\"RdBu\"),linewidths=0.5,annot=False, ax=ax)"
   ]
  },
  {
   "cell_type": "code",
   "execution_count": 33,
   "metadata": {
    "scrolled": true
   },
   "outputs": [
    {
     "data": {
      "text/plain": [
       "Order                                                                  int64\n",
       "Property Id                                                            int64\n",
       "Property Name                                                         object\n",
       "BBL - 10 digits                                                      float64\n",
       "NYC Borough, Block and Lot (BBL) self-reported                        object\n",
       "NYC Building Identification Number (BIN)                              object\n",
       "Address 1 (self-reported)                                             object\n",
       "Postal Code                                                           object\n",
       "Borough                                                               object\n",
       "Self-Reported Gross Floor Area (ft²)                                   int64\n",
       "Primary Property Type - Self Selected                                 object\n",
       "List of All Property Use Types at Property                            object\n",
       "Largest Property Use Type                                             object\n",
       "Largest Property Use Type - Gross Floor Area (ft²)                   float64\n",
       "Year Built                                                             int64\n",
       "Number of Buildings                                                    int64\n",
       "Occupancy                                                              int64\n",
       "Metered Areas (Energy)                                                object\n",
       "ENERGY STAR Score                                                    float64\n",
       "Source EUI (kBtu/ft²)                                                float64\n",
       "Weather Normalized Source EUI (kBtu/ft²)                             float64\n",
       "Site EUI (kBtu/ft²)                                                  float64\n",
       "Weather Normalized Site EUI (kBtu/ft²)                               float64\n",
       "Weather Normalized Site Electricity Intensity (kWh/ft²)              float64\n",
       "Weather Normalized Site Natural Gas Intensity (therms/ft²)           float64\n",
       "Natural Gas Use (kBtu)                                               float64\n",
       "Weather Normalized Site Natural Gas Use (therms)                     float64\n",
       "Electricity Use - Grid Purchase (kBtu)                               float64\n",
       "Electricity Use - Grid Purchase (kWh)                                float64\n",
       "Weather Normalized Site Electricity (kWh)                            float64\n",
       "Total GHG Emissions (Metric Tons CO2e)                               float64\n",
       "Direct GHG Emissions (Metric Tons CO2e)                              float64\n",
       "Indirect GHG Emissions (Metric Tons CO2e)                            float64\n",
       "Water Use Intensity (All Water Sources) (gal/ft²)                    float64\n",
       "Generation Date                                               datetime64[ns]\n",
       "dtype: object"
      ]
     },
     "execution_count": 33,
     "metadata": {},
     "output_type": "execute_result"
    }
   ],
   "source": [
    "df.dtypes"
   ]
  },
  {
   "cell_type": "code",
   "execution_count": 34,
   "metadata": {},
   "outputs": [
    {
     "data": {
      "text/plain": [
       "Higgins Hall              14\n",
       "Willoughby Hall           14\n",
       "Cct                       14\n",
       "Myrtle Hall               14\n",
       "Pratt Manhattan Ctr       14\n",
       "                          ..\n",
       "2712 Decatur Avenue        1\n",
       "1462 62nd Street           1\n",
       "47-15 33rd Street          1\n",
       "518 East 80th Street       1\n",
       "110-114 HORATIO II LLC     1\n",
       "Name: Property Name, Length: 17748, dtype: int64"
      ]
     },
     "execution_count": 34,
     "metadata": {},
     "output_type": "execute_result"
    }
   ],
   "source": [
    "df['Property Name'].value_counts()"
   ]
  },
  {
   "cell_type": "code",
   "execution_count": 35,
   "metadata": {},
   "outputs": [],
   "source": [
    "all_features = df.columns\n"
   ]
  },
  {
   "cell_type": "code",
   "execution_count": 36,
   "metadata": {},
   "outputs": [
    {
     "ename": "SyntaxError",
     "evalue": "invalid syntax (<ipython-input-36-5b583d58ca23>, line 1)",
     "output_type": "error",
     "traceback": [
      "\u001b[1;36m  File \u001b[1;32m\"<ipython-input-36-5b583d58ca23>\"\u001b[1;36m, line \u001b[1;32m1\u001b[0m\n\u001b[1;33m    cat_features = [feature for feature in all_features if ] # 명목형 피처\u001b[0m\n\u001b[1;37m                                                           ^\u001b[0m\n\u001b[1;31mSyntaxError\u001b[0m\u001b[1;31m:\u001b[0m invalid syntax\n"
     ]
    }
   ],
   "source": [
    "cat_features = [feature for feature in all_features if ] # 명목형 피처\n"
   ]
  },
  {
   "cell_type": "code",
   "execution_count": 37,
   "metadata": {},
   "outputs": [
    {
     "data": {
      "text/plain": [
       "Order                                                                  int64\n",
       "Property Id                                                            int64\n",
       "Property Name                                                         object\n",
       "BBL - 10 digits                                                      float64\n",
       "NYC Borough, Block and Lot (BBL) self-reported                        object\n",
       "NYC Building Identification Number (BIN)                              object\n",
       "Address 1 (self-reported)                                             object\n",
       "Postal Code                                                           object\n",
       "Borough                                                               object\n",
       "Self-Reported Gross Floor Area (ft²)                                   int64\n",
       "Primary Property Type - Self Selected                                 object\n",
       "List of All Property Use Types at Property                            object\n",
       "Largest Property Use Type                                             object\n",
       "Largest Property Use Type - Gross Floor Area (ft²)                   float64\n",
       "Year Built                                                             int64\n",
       "Number of Buildings                                                    int64\n",
       "Occupancy                                                              int64\n",
       "Metered Areas (Energy)                                                object\n",
       "ENERGY STAR Score                                                    float64\n",
       "Source EUI (kBtu/ft²)                                                float64\n",
       "Weather Normalized Source EUI (kBtu/ft²)                             float64\n",
       "Site EUI (kBtu/ft²)                                                  float64\n",
       "Weather Normalized Site EUI (kBtu/ft²)                               float64\n",
       "Weather Normalized Site Electricity Intensity (kWh/ft²)              float64\n",
       "Weather Normalized Site Natural Gas Intensity (therms/ft²)           float64\n",
       "Natural Gas Use (kBtu)                                               float64\n",
       "Weather Normalized Site Natural Gas Use (therms)                     float64\n",
       "Electricity Use - Grid Purchase (kBtu)                               float64\n",
       "Electricity Use - Grid Purchase (kWh)                                float64\n",
       "Weather Normalized Site Electricity (kWh)                            float64\n",
       "Total GHG Emissions (Metric Tons CO2e)                               float64\n",
       "Direct GHG Emissions (Metric Tons CO2e)                              float64\n",
       "Indirect GHG Emissions (Metric Tons CO2e)                            float64\n",
       "Water Use Intensity (All Water Sources) (gal/ft²)                    float64\n",
       "Generation Date                                               datetime64[ns]\n",
       "dtype: object"
      ]
     },
     "execution_count": 37,
     "metadata": {},
     "output_type": "execute_result"
    }
   ],
   "source": [
    "df.dtypes"
   ]
  },
  {
   "cell_type": "code",
   "execution_count": 38,
   "metadata": {},
   "outputs": [],
   "source": [
    "features = []\n",
    "for i in range(len(df.columns)):\n",
    "    features.append(all_features[[i]][0])\n",
    "features = features[:35]"
   ]
  },
  {
   "cell_type": "code",
   "execution_count": 39,
   "metadata": {},
   "outputs": [
    {
     "data": {
      "text/plain": [
       "Order                                                                  int64\n",
       "Property Id                                                            int64\n",
       "Property Name                                                         object\n",
       "BBL - 10 digits                                                      float64\n",
       "NYC Borough, Block and Lot (BBL) self-reported                        object\n",
       "NYC Building Identification Number (BIN)                              object\n",
       "Address 1 (self-reported)                                             object\n",
       "Postal Code                                                           object\n",
       "Borough                                                               object\n",
       "Self-Reported Gross Floor Area (ft²)                                   int64\n",
       "Primary Property Type - Self Selected                                 object\n",
       "List of All Property Use Types at Property                            object\n",
       "Largest Property Use Type                                             object\n",
       "Largest Property Use Type - Gross Floor Area (ft²)                   float64\n",
       "Year Built                                                             int64\n",
       "Number of Buildings                                                    int64\n",
       "Occupancy                                                              int64\n",
       "Metered Areas (Energy)                                                object\n",
       "ENERGY STAR Score                                                    float64\n",
       "Source EUI (kBtu/ft²)                                                float64\n",
       "Weather Normalized Source EUI (kBtu/ft²)                             float64\n",
       "Site EUI (kBtu/ft²)                                                  float64\n",
       "Weather Normalized Site EUI (kBtu/ft²)                               float64\n",
       "Weather Normalized Site Electricity Intensity (kWh/ft²)              float64\n",
       "Weather Normalized Site Natural Gas Intensity (therms/ft²)           float64\n",
       "Natural Gas Use (kBtu)                                               float64\n",
       "Weather Normalized Site Natural Gas Use (therms)                     float64\n",
       "Electricity Use - Grid Purchase (kBtu)                               float64\n",
       "Electricity Use - Grid Purchase (kWh)                                float64\n",
       "Weather Normalized Site Electricity (kWh)                            float64\n",
       "Total GHG Emissions (Metric Tons CO2e)                               float64\n",
       "Direct GHG Emissions (Metric Tons CO2e)                              float64\n",
       "Indirect GHG Emissions (Metric Tons CO2e)                            float64\n",
       "Water Use Intensity (All Water Sources) (gal/ft²)                    float64\n",
       "Generation Date                                               datetime64[ns]\n",
       "dtype: object"
      ]
     },
     "execution_count": 39,
     "metadata": {},
     "output_type": "execute_result"
    }
   ],
   "source": [
    "df.dtypes"
   ]
  },
  {
   "cell_type": "code",
   "execution_count": 40,
   "metadata": {},
   "outputs": [],
   "source": [
    "df = df.drop(columns=['Electricity Use - Grid Purchase (kBtu)', 'Water Use Intensity (All Water Sources) (gal/ft²)', 'Generation Date'], axis=1)\n"
   ]
  },
  {
   "cell_type": "code",
   "execution_count": 41,
   "metadata": {},
   "outputs": [],
   "source": [
    "del df['Metered Areas (Energy)'] #Признак принимает одно значение"
   ]
  },
  {
   "cell_type": "code",
   "execution_count": 42,
   "metadata": {},
   "outputs": [],
   "source": [
    "del df['Property Name']"
   ]
  },
  {
   "cell_type": "code",
   "execution_count": 43,
   "metadata": {},
   "outputs": [],
   "source": [
    "# del df['BBL - 10 digits']\n",
    "df = df.drop(['Largest Property Use Type', 'List of All Property Use Types at Property', 'Primary Property Type - Self Selected', 'Address 1 (self-reported)', 'NYC Building Identification Number (BIN)', 'NYC Borough, Block and Lot (BBL) self-reported'],axis=1)"
   ]
  },
  {
   "cell_type": "code",
   "execution_count": 44,
   "metadata": {},
   "outputs": [
    {
     "data": {
      "text/plain": [
       "Manhattan        9223\n",
       "Brooklyn         6419\n",
       "Bronx            5350\n",
       "Queens           3992\n",
       "Staten Island     427\n",
       "brooklyn           24\n",
       "BROOKLYN            9\n",
       "bronx               4\n",
       "QUEENS              2\n",
       "BRONX               2\n",
       "STATEN ISLAND       1\n",
       "Patchogue           1\n",
       "Name: Borough, dtype: int64"
      ]
     },
     "execution_count": 44,
     "metadata": {},
     "output_type": "execute_result"
    }
   ],
   "source": [
    "df['Borough'].value_counts()"
   ]
  },
  {
   "cell_type": "code",
   "execution_count": 45,
   "metadata": {},
   "outputs": [
    {
     "data": {
      "text/plain": [
       "Order                                                           int64\n",
       "Property Id                                                     int64\n",
       "BBL - 10 digits                                               float64\n",
       "Postal Code                                                    object\n",
       "Borough                                                        object\n",
       "Self-Reported Gross Floor Area (ft²)                            int64\n",
       "Largest Property Use Type - Gross Floor Area (ft²)            float64\n",
       "Year Built                                                      int64\n",
       "Number of Buildings                                             int64\n",
       "Occupancy                                                       int64\n",
       "ENERGY STAR Score                                             float64\n",
       "Source EUI (kBtu/ft²)                                         float64\n",
       "Weather Normalized Source EUI (kBtu/ft²)                      float64\n",
       "Site EUI (kBtu/ft²)                                           float64\n",
       "Weather Normalized Site EUI (kBtu/ft²)                        float64\n",
       "Weather Normalized Site Electricity Intensity (kWh/ft²)       float64\n",
       "Weather Normalized Site Natural Gas Intensity (therms/ft²)    float64\n",
       "Natural Gas Use (kBtu)                                        float64\n",
       "Weather Normalized Site Natural Gas Use (therms)              float64\n",
       "Electricity Use - Grid Purchase (kWh)                         float64\n",
       "Weather Normalized Site Electricity (kWh)                     float64\n",
       "Total GHG Emissions (Metric Tons CO2e)                        float64\n",
       "Direct GHG Emissions (Metric Tons CO2e)                       float64\n",
       "Indirect GHG Emissions (Metric Tons CO2e)                     float64\n",
       "dtype: object"
      ]
     },
     "execution_count": 45,
     "metadata": {},
     "output_type": "execute_result"
    }
   ],
   "source": [
    "df.dtypes"
   ]
  },
  {
   "cell_type": "code",
   "execution_count": 46,
   "metadata": {},
   "outputs": [
    {
     "data": {
      "text/plain": [
       "10027         610\n",
       "10452         599\n",
       "11226         586\n",
       "10467         502\n",
       "11205         484\n",
       "             ... \n",
       "10486           1\n",
       "10432           1\n",
       "11232-3165      1\n",
       "10403           1\n",
       "104542130       1\n",
       "Name: Postal Code, Length: 297, dtype: int64"
      ]
     },
     "execution_count": 46,
     "metadata": {},
     "output_type": "execute_result"
    }
   ],
   "source": [
    "df['Postal Code'].value_counts()"
   ]
  },
  {
   "cell_type": "code",
   "execution_count": 47,
   "metadata": {},
   "outputs": [
    {
     "data": {
      "text/html": [
       "<div>\n",
       "<style scoped>\n",
       "    .dataframe tbody tr th:only-of-type {\n",
       "        vertical-align: middle;\n",
       "    }\n",
       "\n",
       "    .dataframe tbody tr th {\n",
       "        vertical-align: top;\n",
       "    }\n",
       "\n",
       "    .dataframe thead th {\n",
       "        text-align: right;\n",
       "    }\n",
       "</style>\n",
       "<table border=\"1\" class=\"dataframe\">\n",
       "  <thead>\n",
       "    <tr style=\"text-align: right;\">\n",
       "      <th></th>\n",
       "      <th>Order</th>\n",
       "      <th>Property Id</th>\n",
       "      <th>BBL - 10 digits</th>\n",
       "      <th>Postal Code</th>\n",
       "      <th>Borough</th>\n",
       "      <th>Self-Reported Gross Floor Area (ft²)</th>\n",
       "      <th>Largest Property Use Type - Gross Floor Area (ft²)</th>\n",
       "      <th>Year Built</th>\n",
       "      <th>Number of Buildings</th>\n",
       "      <th>Occupancy</th>\n",
       "      <th>...</th>\n",
       "      <th>Weather Normalized Site EUI (kBtu/ft²)</th>\n",
       "      <th>Weather Normalized Site Electricity Intensity (kWh/ft²)</th>\n",
       "      <th>Weather Normalized Site Natural Gas Intensity (therms/ft²)</th>\n",
       "      <th>Natural Gas Use (kBtu)</th>\n",
       "      <th>Weather Normalized Site Natural Gas Use (therms)</th>\n",
       "      <th>Electricity Use - Grid Purchase (kWh)</th>\n",
       "      <th>Weather Normalized Site Electricity (kWh)</th>\n",
       "      <th>Total GHG Emissions (Metric Tons CO2e)</th>\n",
       "      <th>Direct GHG Emissions (Metric Tons CO2e)</th>\n",
       "      <th>Indirect GHG Emissions (Metric Tons CO2e)</th>\n",
       "    </tr>\n",
       "  </thead>\n",
       "  <tbody>\n",
       "    <tr>\n",
       "      <th>0</th>\n",
       "      <td>1</td>\n",
       "      <td>4593574</td>\n",
       "      <td>1.010288e+09</td>\n",
       "      <td>10019</td>\n",
       "      <td>4</td>\n",
       "      <td>169416</td>\n",
       "      <td>164754.0</td>\n",
       "      <td>1909</td>\n",
       "      <td>1</td>\n",
       "      <td>95</td>\n",
       "      <td>...</td>\n",
       "      <td>56.2</td>\n",
       "      <td>11.3</td>\n",
       "      <td>0.1</td>\n",
       "      <td>1435754.7</td>\n",
       "      <td>16672.2</td>\n",
       "      <td>1920103.6</td>\n",
       "      <td>1920103.6</td>\n",
       "      <td>732.4</td>\n",
       "      <td>76.3</td>\n",
       "      <td>656.1</td>\n",
       "    </tr>\n",
       "    <tr>\n",
       "      <th>1</th>\n",
       "      <td>3</td>\n",
       "      <td>2967701</td>\n",
       "      <td>4.018720e+09</td>\n",
       "      <td>11373</td>\n",
       "      <td>7</td>\n",
       "      <td>94380</td>\n",
       "      <td>94380.0</td>\n",
       "      <td>1963</td>\n",
       "      <td>1</td>\n",
       "      <td>100</td>\n",
       "      <td>...</td>\n",
       "      <td>31.3</td>\n",
       "      <td>2.0</td>\n",
       "      <td>0.2</td>\n",
       "      <td>2068300.1</td>\n",
       "      <td>23243.7</td>\n",
       "      <td>180640.0</td>\n",
       "      <td>184131.9</td>\n",
       "      <td>164.5</td>\n",
       "      <td>109.9</td>\n",
       "      <td>54.6</td>\n",
       "    </tr>\n",
       "    <tr>\n",
       "      <th>2</th>\n",
       "      <td>4</td>\n",
       "      <td>4898531</td>\n",
       "      <td>1.008290e+09</td>\n",
       "      <td>10001-7507</td>\n",
       "      <td>4</td>\n",
       "      <td>125000</td>\n",
       "      <td>125000.0</td>\n",
       "      <td>1999</td>\n",
       "      <td>1</td>\n",
       "      <td>85</td>\n",
       "      <td>...</td>\n",
       "      <td>133.7</td>\n",
       "      <td>18.8</td>\n",
       "      <td>0.7</td>\n",
       "      <td>8245445.1</td>\n",
       "      <td>86776.9</td>\n",
       "      <td>2354605.3</td>\n",
       "      <td>2354605.3</td>\n",
       "      <td>1150.2</td>\n",
       "      <td>438.0</td>\n",
       "      <td>712.3</td>\n",
       "    </tr>\n",
       "    <tr>\n",
       "      <th>3</th>\n",
       "      <td>5</td>\n",
       "      <td>2917939</td>\n",
       "      <td>1.008280e+09</td>\n",
       "      <td>10001</td>\n",
       "      <td>4</td>\n",
       "      <td>50000</td>\n",
       "      <td>50000.0</td>\n",
       "      <td>1994</td>\n",
       "      <td>1</td>\n",
       "      <td>100</td>\n",
       "      <td>...</td>\n",
       "      <td>80.8</td>\n",
       "      <td>11.7</td>\n",
       "      <td>0.4</td>\n",
       "      <td>1848519.4</td>\n",
       "      <td>20520.9</td>\n",
       "      <td>579335.2</td>\n",
       "      <td>582516.1</td>\n",
       "      <td>273.4</td>\n",
       "      <td>98.2</td>\n",
       "      <td>175.3</td>\n",
       "    </tr>\n",
       "    <tr>\n",
       "      <th>4</th>\n",
       "      <td>6</td>\n",
       "      <td>3878205</td>\n",
       "      <td>1.000650e+09</td>\n",
       "      <td>10038</td>\n",
       "      <td>4</td>\n",
       "      <td>50000</td>\n",
       "      <td>50000.0</td>\n",
       "      <td>2012</td>\n",
       "      <td>1</td>\n",
       "      <td>0</td>\n",
       "      <td>...</td>\n",
       "      <td>20.5</td>\n",
       "      <td>6.0</td>\n",
       "      <td>NaN</td>\n",
       "      <td>NaN</td>\n",
       "      <td>NaN</td>\n",
       "      <td>299809.9</td>\n",
       "      <td>299809.9</td>\n",
       "      <td>90.7</td>\n",
       "      <td>0.0</td>\n",
       "      <td>90.7</td>\n",
       "    </tr>\n",
       "  </tbody>\n",
       "</table>\n",
       "<p>5 rows × 24 columns</p>\n",
       "</div>"
      ],
      "text/plain": [
       "   Order  Property Id  BBL - 10 digits Postal Code  Borough  \\\n",
       "0      1      4593574     1.010288e+09       10019        4   \n",
       "1      3      2967701     4.018720e+09       11373        7   \n",
       "2      4      4898531     1.008290e+09  10001-7507        4   \n",
       "3      5      2917939     1.008280e+09       10001        4   \n",
       "4      6      3878205     1.000650e+09       10038        4   \n",
       "\n",
       "   Self-Reported Gross Floor Area (ft²)  \\\n",
       "0                                169416   \n",
       "1                                 94380   \n",
       "2                                125000   \n",
       "3                                 50000   \n",
       "4                                 50000   \n",
       "\n",
       "   Largest Property Use Type - Gross Floor Area (ft²)  Year Built  \\\n",
       "0                                           164754.0         1909   \n",
       "1                                            94380.0         1963   \n",
       "2                                           125000.0         1999   \n",
       "3                                            50000.0         1994   \n",
       "4                                            50000.0         2012   \n",
       "\n",
       "   Number of Buildings  Occupancy  ...  \\\n",
       "0                    1         95  ...   \n",
       "1                    1        100  ...   \n",
       "2                    1         85  ...   \n",
       "3                    1        100  ...   \n",
       "4                    1          0  ...   \n",
       "\n",
       "   Weather Normalized Site EUI (kBtu/ft²)  \\\n",
       "0                                    56.2   \n",
       "1                                    31.3   \n",
       "2                                   133.7   \n",
       "3                                    80.8   \n",
       "4                                    20.5   \n",
       "\n",
       "   Weather Normalized Site Electricity Intensity (kWh/ft²)  \\\n",
       "0                                               11.3         \n",
       "1                                                2.0         \n",
       "2                                               18.8         \n",
       "3                                               11.7         \n",
       "4                                                6.0         \n",
       "\n",
       "   Weather Normalized Site Natural Gas Intensity (therms/ft²)  \\\n",
       "0                                                0.1            \n",
       "1                                                0.2            \n",
       "2                                                0.7            \n",
       "3                                                0.4            \n",
       "4                                                NaN            \n",
       "\n",
       "   Natural Gas Use (kBtu)  Weather Normalized Site Natural Gas Use (therms)  \\\n",
       "0               1435754.7                                           16672.2   \n",
       "1               2068300.1                                           23243.7   \n",
       "2               8245445.1                                           86776.9   \n",
       "3               1848519.4                                           20520.9   \n",
       "4                     NaN                                               NaN   \n",
       "\n",
       "   Electricity Use - Grid Purchase (kWh)  \\\n",
       "0                              1920103.6   \n",
       "1                               180640.0   \n",
       "2                              2354605.3   \n",
       "3                               579335.2   \n",
       "4                               299809.9   \n",
       "\n",
       "   Weather Normalized Site Electricity (kWh)  \\\n",
       "0                                  1920103.6   \n",
       "1                                   184131.9   \n",
       "2                                  2354605.3   \n",
       "3                                   582516.1   \n",
       "4                                   299809.9   \n",
       "\n",
       "   Total GHG Emissions (Metric Tons CO2e)  \\\n",
       "0                                   732.4   \n",
       "1                                   164.5   \n",
       "2                                  1150.2   \n",
       "3                                   273.4   \n",
       "4                                    90.7   \n",
       "\n",
       "   Direct GHG Emissions (Metric Tons CO2e)  \\\n",
       "0                                     76.3   \n",
       "1                                    109.9   \n",
       "2                                    438.0   \n",
       "3                                     98.2   \n",
       "4                                      0.0   \n",
       "\n",
       "   Indirect GHG Emissions (Metric Tons CO2e)  \n",
       "0                                      656.1  \n",
       "1                                       54.6  \n",
       "2                                      712.3  \n",
       "3                                      175.3  \n",
       "4                                       90.7  \n",
       "\n",
       "[5 rows x 24 columns]"
      ]
     },
     "execution_count": 47,
     "metadata": {},
     "output_type": "execute_result"
    }
   ],
   "source": [
    "label_encoder = LabelEncoder()\n",
    "# categorical_columns = df.columns[df.dtypes == 'object']\n",
    "# for column in categorical_columns:\n",
    "df['Borough'] = label_encoder.fit_transform(df['Borough'])\n",
    "df.head()"
   ]
  },
  {
   "cell_type": "code",
   "execution_count": 48,
   "metadata": {},
   "outputs": [
    {
     "data": {
      "text/plain": [
       "Order                                                           int64\n",
       "Property Id                                                     int64\n",
       "BBL - 10 digits                                               float64\n",
       "Postal Code                                                    object\n",
       "Borough                                                         int32\n",
       "Self-Reported Gross Floor Area (ft²)                            int64\n",
       "Largest Property Use Type - Gross Floor Area (ft²)            float64\n",
       "Year Built                                                      int64\n",
       "Number of Buildings                                             int64\n",
       "Occupancy                                                       int64\n",
       "ENERGY STAR Score                                             float64\n",
       "Source EUI (kBtu/ft²)                                         float64\n",
       "Weather Normalized Source EUI (kBtu/ft²)                      float64\n",
       "Site EUI (kBtu/ft²)                                           float64\n",
       "Weather Normalized Site EUI (kBtu/ft²)                        float64\n",
       "Weather Normalized Site Electricity Intensity (kWh/ft²)       float64\n",
       "Weather Normalized Site Natural Gas Intensity (therms/ft²)    float64\n",
       "Natural Gas Use (kBtu)                                        float64\n",
       "Weather Normalized Site Natural Gas Use (therms)              float64\n",
       "Electricity Use - Grid Purchase (kWh)                         float64\n",
       "Weather Normalized Site Electricity (kWh)                     float64\n",
       "Total GHG Emissions (Metric Tons CO2e)                        float64\n",
       "Direct GHG Emissions (Metric Tons CO2e)                       float64\n",
       "Indirect GHG Emissions (Metric Tons CO2e)                     float64\n",
       "dtype: object"
      ]
     },
     "execution_count": 48,
     "metadata": {},
     "output_type": "execute_result"
    }
   ],
   "source": [
    "df.dtypes"
   ]
  },
  {
   "cell_type": "code",
   "execution_count": 49,
   "metadata": {},
   "outputs": [
    {
     "data": {
      "text/html": [
       "<div>\n",
       "<style scoped>\n",
       "    .dataframe tbody tr th:only-of-type {\n",
       "        vertical-align: middle;\n",
       "    }\n",
       "\n",
       "    .dataframe tbody tr th {\n",
       "        vertical-align: top;\n",
       "    }\n",
       "\n",
       "    .dataframe thead th {\n",
       "        text-align: right;\n",
       "    }\n",
       "</style>\n",
       "<table border=\"1\" class=\"dataframe\">\n",
       "  <thead>\n",
       "    <tr style=\"text-align: right;\">\n",
       "      <th></th>\n",
       "      <th>Order</th>\n",
       "      <th>Property Id</th>\n",
       "      <th>BBL - 10 digits</th>\n",
       "      <th>Postal Code</th>\n",
       "      <th>Borough</th>\n",
       "      <th>Self-Reported Gross Floor Area (ft²)</th>\n",
       "      <th>Largest Property Use Type - Gross Floor Area (ft²)</th>\n",
       "      <th>Year Built</th>\n",
       "      <th>Number of Buildings</th>\n",
       "      <th>Occupancy</th>\n",
       "      <th>...</th>\n",
       "      <th>Weather Normalized Site EUI (kBtu/ft²)</th>\n",
       "      <th>Weather Normalized Site Electricity Intensity (kWh/ft²)</th>\n",
       "      <th>Weather Normalized Site Natural Gas Intensity (therms/ft²)</th>\n",
       "      <th>Natural Gas Use (kBtu)</th>\n",
       "      <th>Weather Normalized Site Natural Gas Use (therms)</th>\n",
       "      <th>Electricity Use - Grid Purchase (kWh)</th>\n",
       "      <th>Weather Normalized Site Electricity (kWh)</th>\n",
       "      <th>Total GHG Emissions (Metric Tons CO2e)</th>\n",
       "      <th>Direct GHG Emissions (Metric Tons CO2e)</th>\n",
       "      <th>Indirect GHG Emissions (Metric Tons CO2e)</th>\n",
       "    </tr>\n",
       "  </thead>\n",
       "  <tbody>\n",
       "    <tr>\n",
       "      <th>0</th>\n",
       "      <td>1</td>\n",
       "      <td>4593574</td>\n",
       "      <td>1.010288e+09</td>\n",
       "      <td>10019</td>\n",
       "      <td>4</td>\n",
       "      <td>169416</td>\n",
       "      <td>164754.0</td>\n",
       "      <td>1909</td>\n",
       "      <td>1</td>\n",
       "      <td>95</td>\n",
       "      <td>...</td>\n",
       "      <td>56.2</td>\n",
       "      <td>11.3</td>\n",
       "      <td>0.1</td>\n",
       "      <td>1435754.7</td>\n",
       "      <td>16672.2</td>\n",
       "      <td>1920103.6</td>\n",
       "      <td>1920103.6</td>\n",
       "      <td>732.4</td>\n",
       "      <td>76.3</td>\n",
       "      <td>656.1</td>\n",
       "    </tr>\n",
       "    <tr>\n",
       "      <th>1</th>\n",
       "      <td>3</td>\n",
       "      <td>2967701</td>\n",
       "      <td>4.018720e+09</td>\n",
       "      <td>11373</td>\n",
       "      <td>7</td>\n",
       "      <td>94380</td>\n",
       "      <td>94380.0</td>\n",
       "      <td>1963</td>\n",
       "      <td>1</td>\n",
       "      <td>100</td>\n",
       "      <td>...</td>\n",
       "      <td>31.3</td>\n",
       "      <td>2.0</td>\n",
       "      <td>0.2</td>\n",
       "      <td>2068300.1</td>\n",
       "      <td>23243.7</td>\n",
       "      <td>180640.0</td>\n",
       "      <td>184131.9</td>\n",
       "      <td>164.5</td>\n",
       "      <td>109.9</td>\n",
       "      <td>54.6</td>\n",
       "    </tr>\n",
       "    <tr>\n",
       "      <th>2</th>\n",
       "      <td>4</td>\n",
       "      <td>4898531</td>\n",
       "      <td>1.008290e+09</td>\n",
       "      <td>10001-7507</td>\n",
       "      <td>4</td>\n",
       "      <td>125000</td>\n",
       "      <td>125000.0</td>\n",
       "      <td>1999</td>\n",
       "      <td>1</td>\n",
       "      <td>85</td>\n",
       "      <td>...</td>\n",
       "      <td>133.7</td>\n",
       "      <td>18.8</td>\n",
       "      <td>0.7</td>\n",
       "      <td>8245445.1</td>\n",
       "      <td>86776.9</td>\n",
       "      <td>2354605.3</td>\n",
       "      <td>2354605.3</td>\n",
       "      <td>1150.2</td>\n",
       "      <td>438.0</td>\n",
       "      <td>712.3</td>\n",
       "    </tr>\n",
       "    <tr>\n",
       "      <th>3</th>\n",
       "      <td>5</td>\n",
       "      <td>2917939</td>\n",
       "      <td>1.008280e+09</td>\n",
       "      <td>10001</td>\n",
       "      <td>4</td>\n",
       "      <td>50000</td>\n",
       "      <td>50000.0</td>\n",
       "      <td>1994</td>\n",
       "      <td>1</td>\n",
       "      <td>100</td>\n",
       "      <td>...</td>\n",
       "      <td>80.8</td>\n",
       "      <td>11.7</td>\n",
       "      <td>0.4</td>\n",
       "      <td>1848519.4</td>\n",
       "      <td>20520.9</td>\n",
       "      <td>579335.2</td>\n",
       "      <td>582516.1</td>\n",
       "      <td>273.4</td>\n",
       "      <td>98.2</td>\n",
       "      <td>175.3</td>\n",
       "    </tr>\n",
       "    <tr>\n",
       "      <th>4</th>\n",
       "      <td>6</td>\n",
       "      <td>3878205</td>\n",
       "      <td>1.000650e+09</td>\n",
       "      <td>10038</td>\n",
       "      <td>4</td>\n",
       "      <td>50000</td>\n",
       "      <td>50000.0</td>\n",
       "      <td>2012</td>\n",
       "      <td>1</td>\n",
       "      <td>0</td>\n",
       "      <td>...</td>\n",
       "      <td>20.5</td>\n",
       "      <td>6.0</td>\n",
       "      <td>NaN</td>\n",
       "      <td>NaN</td>\n",
       "      <td>NaN</td>\n",
       "      <td>299809.9</td>\n",
       "      <td>299809.9</td>\n",
       "      <td>90.7</td>\n",
       "      <td>0.0</td>\n",
       "      <td>90.7</td>\n",
       "    </tr>\n",
       "  </tbody>\n",
       "</table>\n",
       "<p>5 rows × 24 columns</p>\n",
       "</div>"
      ],
      "text/plain": [
       "   Order  Property Id  BBL - 10 digits Postal Code  Borough  \\\n",
       "0      1      4593574     1.010288e+09       10019        4   \n",
       "1      3      2967701     4.018720e+09       11373        7   \n",
       "2      4      4898531     1.008290e+09  10001-7507        4   \n",
       "3      5      2917939     1.008280e+09       10001        4   \n",
       "4      6      3878205     1.000650e+09       10038        4   \n",
       "\n",
       "   Self-Reported Gross Floor Area (ft²)  \\\n",
       "0                                169416   \n",
       "1                                 94380   \n",
       "2                                125000   \n",
       "3                                 50000   \n",
       "4                                 50000   \n",
       "\n",
       "   Largest Property Use Type - Gross Floor Area (ft²)  Year Built  \\\n",
       "0                                           164754.0         1909   \n",
       "1                                            94380.0         1963   \n",
       "2                                           125000.0         1999   \n",
       "3                                            50000.0         1994   \n",
       "4                                            50000.0         2012   \n",
       "\n",
       "   Number of Buildings  Occupancy  ...  \\\n",
       "0                    1         95  ...   \n",
       "1                    1        100  ...   \n",
       "2                    1         85  ...   \n",
       "3                    1        100  ...   \n",
       "4                    1          0  ...   \n",
       "\n",
       "   Weather Normalized Site EUI (kBtu/ft²)  \\\n",
       "0                                    56.2   \n",
       "1                                    31.3   \n",
       "2                                   133.7   \n",
       "3                                    80.8   \n",
       "4                                    20.5   \n",
       "\n",
       "   Weather Normalized Site Electricity Intensity (kWh/ft²)  \\\n",
       "0                                               11.3         \n",
       "1                                                2.0         \n",
       "2                                               18.8         \n",
       "3                                               11.7         \n",
       "4                                                6.0         \n",
       "\n",
       "   Weather Normalized Site Natural Gas Intensity (therms/ft²)  \\\n",
       "0                                                0.1            \n",
       "1                                                0.2            \n",
       "2                                                0.7            \n",
       "3                                                0.4            \n",
       "4                                                NaN            \n",
       "\n",
       "   Natural Gas Use (kBtu)  Weather Normalized Site Natural Gas Use (therms)  \\\n",
       "0               1435754.7                                           16672.2   \n",
       "1               2068300.1                                           23243.7   \n",
       "2               8245445.1                                           86776.9   \n",
       "3               1848519.4                                           20520.9   \n",
       "4                     NaN                                               NaN   \n",
       "\n",
       "   Electricity Use - Grid Purchase (kWh)  \\\n",
       "0                              1920103.6   \n",
       "1                               180640.0   \n",
       "2                              2354605.3   \n",
       "3                               579335.2   \n",
       "4                               299809.9   \n",
       "\n",
       "   Weather Normalized Site Electricity (kWh)  \\\n",
       "0                                  1920103.6   \n",
       "1                                   184131.9   \n",
       "2                                  2354605.3   \n",
       "3                                   582516.1   \n",
       "4                                   299809.9   \n",
       "\n",
       "   Total GHG Emissions (Metric Tons CO2e)  \\\n",
       "0                                   732.4   \n",
       "1                                   164.5   \n",
       "2                                  1150.2   \n",
       "3                                   273.4   \n",
       "4                                    90.7   \n",
       "\n",
       "   Direct GHG Emissions (Metric Tons CO2e)  \\\n",
       "0                                     76.3   \n",
       "1                                    109.9   \n",
       "2                                    438.0   \n",
       "3                                     98.2   \n",
       "4                                      0.0   \n",
       "\n",
       "   Indirect GHG Emissions (Metric Tons CO2e)  \n",
       "0                                      656.1  \n",
       "1                                       54.6  \n",
       "2                                      712.3  \n",
       "3                                      175.3  \n",
       "4                                       90.7  \n",
       "\n",
       "[5 rows x 24 columns]"
      ]
     },
     "execution_count": 49,
     "metadata": {},
     "output_type": "execute_result"
    }
   ],
   "source": [
    "label_encoder = LabelEncoder()\n",
    "# categorical_columns = df.columns[df.dtypes == 'object']\n",
    "# for column in categorical_columns:\n",
    "df['Borough'] = label_encoder.fit_transform(df['Borough'])\n",
    "df.head()"
   ]
  },
  {
   "cell_type": "code",
   "execution_count": 50,
   "metadata": {},
   "outputs": [],
   "source": [
    "del df['Postal Code']"
   ]
  },
  {
   "cell_type": "code",
   "execution_count": 51,
   "metadata": {},
   "outputs": [
    {
     "data": {
      "text/plain": [
       "<AxesSubplot:>"
      ]
     },
     "execution_count": 51,
     "metadata": {},
     "output_type": "execute_result"
    },
    {
     "data": {
      "image/png": "[encoded data removed]",
      "text/plain": [
       "<Figure size 864x576 with 2 Axes>"
      ]
     },
     "metadata": {
      "needs_background": "light"
     },
     "output_type": "display_data"
    }
   ],
   "source": [
    "fig, ax = plt.subplots(figsize=(12,8))\n",
    "sns.heatmap(df.corr(), cmap= sns.color_palette(palette=\"RdBu\"),linewidths=0.5,annot=False, ax=ax)"
   ]
  },
  {
   "cell_type": "code",
   "execution_count": 52,
   "metadata": {},
   "outputs": [
    {
     "data": {
      "text/plain": [
       "Order                                                           int64\n",
       "Property Id                                                     int64\n",
       "BBL - 10 digits                                               float64\n",
       "Borough                                                         int64\n",
       "Self-Reported Gross Floor Area (ft²)                            int64\n",
       "Largest Property Use Type - Gross Floor Area (ft²)            float64\n",
       "Year Built                                                      int64\n",
       "Number of Buildings                                             int64\n",
       "Occupancy                                                       int64\n",
       "ENERGY STAR Score                                             float64\n",
       "Source EUI (kBtu/ft²)                                         float64\n",
       "Weather Normalized Source EUI (kBtu/ft²)                      float64\n",
       "Site EUI (kBtu/ft²)                                           float64\n",
       "Weather Normalized Site EUI (kBtu/ft²)                        float64\n",
       "Weather Normalized Site Electricity Intensity (kWh/ft²)       float64\n",
       "Weather Normalized Site Natural Gas Intensity (therms/ft²)    float64\n",
       "Natural Gas Use (kBtu)                                        float64\n",
       "Weather Normalized Site Natural Gas Use (therms)              float64\n",
       "Electricity Use - Grid Purchase (kWh)                         float64\n",
       "Weather Normalized Site Electricity (kWh)                     float64\n",
       "Total GHG Emissions (Metric Tons CO2e)                        float64\n",
       "Direct GHG Emissions (Metric Tons CO2e)                       float64\n",
       "Indirect GHG Emissions (Metric Tons CO2e)                     float64\n",
       "dtype: object"
      ]
     },
     "execution_count": 52,
     "metadata": {},
     "output_type": "execute_result"
    }
   ],
   "source": [
    "df.dtypes"
   ]
  },
  {
   "cell_type": "code",
   "execution_count": 53,
   "metadata": {},
   "outputs": [],
   "source": [
    "del df['Total GHG Emissions (Metric Tons CO2e)']"
   ]
  },
  {
   "cell_type": "code",
   "execution_count": 54,
   "metadata": {},
   "outputs": [],
   "source": [
    "df = df.drop(['Site EUI (kBtu/ft²)' ,'Weather Normalized Site EUI (kBtu/ft²)'],axis=1)"
   ]
  },
  {
   "cell_type": "code",
   "execution_count": 55,
   "metadata": {},
   "outputs": [],
   "source": [
    "df = df.drop(['Weather Normalized Site Natural Gas Use (therms)'],axis=1)"
   ]
  },
  {
   "cell_type": "code",
   "execution_count": 56,
   "metadata": {},
   "outputs": [],
   "source": [
    "del df['Indirect GHG Emissions (Metric Tons CO2e)']"
   ]
  },
  {
   "cell_type": "code",
   "execution_count": 57,
   "metadata": {},
   "outputs": [],
   "source": [
    "del df['Electricity Use - Grid Purchase (kWh)']"
   ]
  },
  {
   "cell_type": "code",
   "execution_count": 58,
   "metadata": {},
   "outputs": [],
   "source": [
    "del df['Natural Gas Use (kBtu)']"
   ]
  },
  {
   "cell_type": "code",
   "execution_count": 59,
   "metadata": {},
   "outputs": [
    {
     "data": {
      "text/html": [
       "<div>\n",
       "<style scoped>\n",
       "    .dataframe tbody tr th:only-of-type {\n",
       "        vertical-align: middle;\n",
       "    }\n",
       "\n",
       "    .dataframe tbody tr th {\n",
       "        vertical-align: top;\n",
       "    }\n",
       "\n",
       "    .dataframe thead th {\n",
       "        text-align: right;\n",
       "    }\n",
       "</style>\n",
       "<table border=\"1\" class=\"dataframe\">\n",
       "  <thead>\n",
       "    <tr style=\"text-align: right;\">\n",
       "      <th></th>\n",
       "      <th>Order</th>\n",
       "      <th>Property Id</th>\n",
       "      <th>BBL - 10 digits</th>\n",
       "      <th>Borough</th>\n",
       "      <th>Self-Reported Gross Floor Area (ft²)</th>\n",
       "      <th>Largest Property Use Type - Gross Floor Area (ft²)</th>\n",
       "      <th>Year Built</th>\n",
       "      <th>Number of Buildings</th>\n",
       "      <th>Occupancy</th>\n",
       "      <th>ENERGY STAR Score</th>\n",
       "      <th>Source EUI (kBtu/ft²)</th>\n",
       "      <th>Weather Normalized Source EUI (kBtu/ft²)</th>\n",
       "      <th>Weather Normalized Site Electricity Intensity (kWh/ft²)</th>\n",
       "      <th>Weather Normalized Site Natural Gas Intensity (therms/ft²)</th>\n",
       "      <th>Weather Normalized Site Electricity (kWh)</th>\n",
       "      <th>Direct GHG Emissions (Metric Tons CO2e)</th>\n",
       "    </tr>\n",
       "  </thead>\n",
       "  <tbody>\n",
       "    <tr>\n",
       "      <th>0</th>\n",
       "      <td>1</td>\n",
       "      <td>4593574</td>\n",
       "      <td>1.010288e+09</td>\n",
       "      <td>4</td>\n",
       "      <td>169416</td>\n",
       "      <td>164754.0</td>\n",
       "      <td>1909</td>\n",
       "      <td>1</td>\n",
       "      <td>95</td>\n",
       "      <td>90.0</td>\n",
       "      <td>138.4</td>\n",
       "      <td>141.0</td>\n",
       "      <td>11.3</td>\n",
       "      <td>0.1</td>\n",
       "      <td>1920103.6</td>\n",
       "      <td>76.3</td>\n",
       "    </tr>\n",
       "    <tr>\n",
       "      <th>1</th>\n",
       "      <td>3</td>\n",
       "      <td>2967701</td>\n",
       "      <td>4.018720e+09</td>\n",
       "      <td>7</td>\n",
       "      <td>94380</td>\n",
       "      <td>94380.0</td>\n",
       "      <td>1963</td>\n",
       "      <td>1</td>\n",
       "      <td>100</td>\n",
       "      <td>100.0</td>\n",
       "      <td>43.5</td>\n",
       "      <td>46.8</td>\n",
       "      <td>2.0</td>\n",
       "      <td>0.2</td>\n",
       "      <td>184131.9</td>\n",
       "      <td>109.9</td>\n",
       "    </tr>\n",
       "    <tr>\n",
       "      <th>2</th>\n",
       "      <td>4</td>\n",
       "      <td>4898531</td>\n",
       "      <td>1.008290e+09</td>\n",
       "      <td>4</td>\n",
       "      <td>125000</td>\n",
       "      <td>125000.0</td>\n",
       "      <td>1999</td>\n",
       "      <td>1</td>\n",
       "      <td>85</td>\n",
       "      <td>83.0</td>\n",
       "      <td>271.1</td>\n",
       "      <td>274.7</td>\n",
       "      <td>18.8</td>\n",
       "      <td>0.7</td>\n",
       "      <td>2354605.3</td>\n",
       "      <td>438.0</td>\n",
       "    </tr>\n",
       "    <tr>\n",
       "      <th>3</th>\n",
       "      <td>5</td>\n",
       "      <td>2917939</td>\n",
       "      <td>1.008280e+09</td>\n",
       "      <td>4</td>\n",
       "      <td>50000</td>\n",
       "      <td>50000.0</td>\n",
       "      <td>1994</td>\n",
       "      <td>1</td>\n",
       "      <td>100</td>\n",
       "      <td>27.0</td>\n",
       "      <td>163.0</td>\n",
       "      <td>167.9</td>\n",
       "      <td>11.7</td>\n",
       "      <td>0.4</td>\n",
       "      <td>582516.1</td>\n",
       "      <td>98.2</td>\n",
       "    </tr>\n",
       "    <tr>\n",
       "      <th>4</th>\n",
       "      <td>6</td>\n",
       "      <td>3878205</td>\n",
       "      <td>1.000650e+09</td>\n",
       "      <td>4</td>\n",
       "      <td>50000</td>\n",
       "      <td>50000.0</td>\n",
       "      <td>2012</td>\n",
       "      <td>1</td>\n",
       "      <td>0</td>\n",
       "      <td>99.0</td>\n",
       "      <td>64.2</td>\n",
       "      <td>64.2</td>\n",
       "      <td>6.0</td>\n",
       "      <td>NaN</td>\n",
       "      <td>299809.9</td>\n",
       "      <td>0.0</td>\n",
       "    </tr>\n",
       "  </tbody>\n",
       "</table>\n",
       "</div>"
      ],
      "text/plain": [
       "   Order  Property Id  BBL - 10 digits  Borough  \\\n",
       "0      1      4593574     1.010288e+09        4   \n",
       "1      3      2967701     4.018720e+09        7   \n",
       "2      4      4898531     1.008290e+09        4   \n",
       "3      5      2917939     1.008280e+09        4   \n",
       "4      6      3878205     1.000650e+09        4   \n",
       "\n",
       "   Self-Reported Gross Floor Area (ft²)  \\\n",
       "0                                169416   \n",
       "1                                 94380   \n",
       "2                                125000   \n",
       "3                                 50000   \n",
       "4                                 50000   \n",
       "\n",
       "   Largest Property Use Type - Gross Floor Area (ft²)  Year Built  \\\n",
       "0                                           164754.0         1909   \n",
       "1                                            94380.0         1963   \n",
       "2                                           125000.0         1999   \n",
       "3                                            50000.0         1994   \n",
       "4                                            50000.0         2012   \n",
       "\n",
       "   Number of Buildings  Occupancy  ENERGY STAR Score  Source EUI (kBtu/ft²)  \\\n",
       "0                    1         95               90.0                  138.4   \n",
       "1                    1        100              100.0                   43.5   \n",
       "2                    1         85               83.0                  271.1   \n",
       "3                    1        100               27.0                  163.0   \n",
       "4                    1          0               99.0                   64.2   \n",
       "\n",
       "   Weather Normalized Source EUI (kBtu/ft²)  \\\n",
       "0                                     141.0   \n",
       "1                                      46.8   \n",
       "2                                     274.7   \n",
       "3                                     167.9   \n",
       "4                                      64.2   \n",
       "\n",
       "   Weather Normalized Site Electricity Intensity (kWh/ft²)  \\\n",
       "0                                               11.3         \n",
       "1                                                2.0         \n",
       "2                                               18.8         \n",
       "3                                               11.7         \n",
       "4                                                6.0         \n",
       "\n",
       "   Weather Normalized Site Natural Gas Intensity (therms/ft²)  \\\n",
       "0                                                0.1            \n",
       "1                                                0.2            \n",
       "2                                                0.7            \n",
       "3                                                0.4            \n",
       "4                                                NaN            \n",
       "\n",
       "   Weather Normalized Site Electricity (kWh)  \\\n",
       "0                                  1920103.6   \n",
       "1                                   184131.9   \n",
       "2                                  2354605.3   \n",
       "3                                   582516.1   \n",
       "4                                   299809.9   \n",
       "\n",
       "   Direct GHG Emissions (Metric Tons CO2e)  \n",
       "0                                     76.3  \n",
       "1                                    109.9  \n",
       "2                                    438.0  \n",
       "3                                     98.2  \n",
       "4                                      0.0  "
      ]
     },
     "execution_count": 59,
     "metadata": {},
     "output_type": "execute_result"
    }
   ],
   "source": [
    "df.head()"
   ]
  },
  {
   "cell_type": "code",
   "execution_count": 60,
   "metadata": {},
   "outputs": [
    {
     "data": {
      "text/plain": [
       "(25454, 16)"
      ]
     },
     "execution_count": 60,
     "metadata": {},
     "output_type": "execute_result"
    }
   ],
   "source": [
    "df.shape"
   ]
  },
  {
   "cell_type": "code",
   "execution_count": 61,
   "metadata": {},
   "outputs": [
    {
     "data": {
      "text/plain": [
       "Order                                                            0\n",
       "Property Id                                                      0\n",
       "BBL - 10 digits                                                429\n",
       "Borough                                                          0\n",
       "Self-Reported Gross Floor Area (ft²)                             0\n",
       "Largest Property Use Type - Gross Floor Area (ft²)               0\n",
       "Year Built                                                       0\n",
       "Number of Buildings                                              0\n",
       "Occupancy                                                        0\n",
       "ENERGY STAR Score                                                0\n",
       "Source EUI (kBtu/ft²)                                            0\n",
       "Weather Normalized Source EUI (kBtu/ft²)                      2699\n",
       "Weather Normalized Site Electricity Intensity (kWh/ft²)        823\n",
       "Weather Normalized Site Natural Gas Intensity (therms/ft²)    2923\n",
       "Weather Normalized Site Electricity (kWh)                      823\n",
       "Direct GHG Emissions (Metric Tons CO2e)                        105\n",
       "dtype: int64"
      ]
     },
     "execution_count": 61,
     "metadata": {},
     "output_type": "execute_result"
    }
   ],
   "source": [
    "nan = df.isna().sum()\n",
    "nan"
   ]
  },
  {
   "cell_type": "code",
   "execution_count": 62,
   "metadata": {},
   "outputs": [
    {
     "data": {
      "text/plain": [
       "(25454, 16)"
      ]
     },
     "execution_count": 62,
     "metadata": {},
     "output_type": "execute_result"
    }
   ],
   "source": [
    "df.shape"
   ]
  },
  {
   "cell_type": "code",
   "execution_count": 63,
   "metadata": {},
   "outputs": [],
   "source": [
    "df = df.dropna(axis=0)"
   ]
  },
  {
   "cell_type": "code",
   "execution_count": 64,
   "metadata": {},
   "outputs": [],
   "source": [
    "del df['Order']"
   ]
  },
  {
   "cell_type": "code",
   "execution_count": 65,
   "metadata": {},
   "outputs": [
    {
     "data": {
      "text/html": [
       "<div>\n",
       "<style scoped>\n",
       "    .dataframe tbody tr th:only-of-type {\n",
       "        vertical-align: middle;\n",
       "    }\n",
       "\n",
       "    .dataframe tbody tr th {\n",
       "        vertical-align: top;\n",
       "    }\n",
       "\n",
       "    .dataframe thead th {\n",
       "        text-align: right;\n",
       "    }\n",
       "</style>\n",
       "<table border=\"1\" class=\"dataframe\">\n",
       "  <thead>\n",
       "    <tr style=\"text-align: right;\">\n",
       "      <th></th>\n",
       "      <th>Property Id</th>\n",
       "      <th>BBL - 10 digits</th>\n",
       "      <th>Borough</th>\n",
       "      <th>Self-Reported Gross Floor Area (ft²)</th>\n",
       "      <th>Largest Property Use Type - Gross Floor Area (ft²)</th>\n",
       "      <th>Year Built</th>\n",
       "      <th>Number of Buildings</th>\n",
       "      <th>Occupancy</th>\n",
       "      <th>ENERGY STAR Score</th>\n",
       "      <th>Source EUI (kBtu/ft²)</th>\n",
       "      <th>Weather Normalized Source EUI (kBtu/ft²)</th>\n",
       "      <th>Weather Normalized Site Electricity Intensity (kWh/ft²)</th>\n",
       "      <th>Weather Normalized Site Natural Gas Intensity (therms/ft²)</th>\n",
       "      <th>Weather Normalized Site Electricity (kWh)</th>\n",
       "      <th>Direct GHG Emissions (Metric Tons CO2e)</th>\n",
       "    </tr>\n",
       "  </thead>\n",
       "  <tbody>\n",
       "    <tr>\n",
       "      <th>0</th>\n",
       "      <td>4593574</td>\n",
       "      <td>1.010288e+09</td>\n",
       "      <td>4</td>\n",
       "      <td>169416</td>\n",
       "      <td>164754.0</td>\n",
       "      <td>1909</td>\n",
       "      <td>1</td>\n",
       "      <td>95</td>\n",
       "      <td>90.0</td>\n",
       "      <td>138.4</td>\n",
       "      <td>141.0</td>\n",
       "      <td>11.3</td>\n",
       "      <td>0.1</td>\n",
       "      <td>1920103.6</td>\n",
       "      <td>76.3</td>\n",
       "    </tr>\n",
       "    <tr>\n",
       "      <th>1</th>\n",
       "      <td>2967701</td>\n",
       "      <td>4.018720e+09</td>\n",
       "      <td>7</td>\n",
       "      <td>94380</td>\n",
       "      <td>94380.0</td>\n",
       "      <td>1963</td>\n",
       "      <td>1</td>\n",
       "      <td>100</td>\n",
       "      <td>100.0</td>\n",
       "      <td>43.5</td>\n",
       "      <td>46.8</td>\n",
       "      <td>2.0</td>\n",
       "      <td>0.2</td>\n",
       "      <td>184131.9</td>\n",
       "      <td>109.9</td>\n",
       "    </tr>\n",
       "    <tr>\n",
       "      <th>2</th>\n",
       "      <td>4898531</td>\n",
       "      <td>1.008290e+09</td>\n",
       "      <td>4</td>\n",
       "      <td>125000</td>\n",
       "      <td>125000.0</td>\n",
       "      <td>1999</td>\n",
       "      <td>1</td>\n",
       "      <td>85</td>\n",
       "      <td>83.0</td>\n",
       "      <td>271.1</td>\n",
       "      <td>274.7</td>\n",
       "      <td>18.8</td>\n",
       "      <td>0.7</td>\n",
       "      <td>2354605.3</td>\n",
       "      <td>438.0</td>\n",
       "    </tr>\n",
       "    <tr>\n",
       "      <th>3</th>\n",
       "      <td>2917939</td>\n",
       "      <td>1.008280e+09</td>\n",
       "      <td>4</td>\n",
       "      <td>50000</td>\n",
       "      <td>50000.0</td>\n",
       "      <td>1994</td>\n",
       "      <td>1</td>\n",
       "      <td>100</td>\n",
       "      <td>27.0</td>\n",
       "      <td>163.0</td>\n",
       "      <td>167.9</td>\n",
       "      <td>11.7</td>\n",
       "      <td>0.4</td>\n",
       "      <td>582516.1</td>\n",
       "      <td>98.2</td>\n",
       "    </tr>\n",
       "    <tr>\n",
       "      <th>8</th>\n",
       "      <td>2815759</td>\n",
       "      <td>4.026110e+09</td>\n",
       "      <td>7</td>\n",
       "      <td>200000</td>\n",
       "      <td>200000.0</td>\n",
       "      <td>1950</td>\n",
       "      <td>1</td>\n",
       "      <td>100</td>\n",
       "      <td>37.0</td>\n",
       "      <td>99.2</td>\n",
       "      <td>103.2</td>\n",
       "      <td>7.8</td>\n",
       "      <td>0.2</td>\n",
       "      <td>1556499.9</td>\n",
       "      <td>172.3</td>\n",
       "    </tr>\n",
       "    <tr>\n",
       "      <th>11</th>\n",
       "      <td>4865941</td>\n",
       "      <td>3.002810e+09</td>\n",
       "      <td>3</td>\n",
       "      <td>721396</td>\n",
       "      <td>721396.0</td>\n",
       "      <td>1931</td>\n",
       "      <td>1</td>\n",
       "      <td>100</td>\n",
       "      <td>97.0</td>\n",
       "      <td>62.1</td>\n",
       "      <td>61.7</td>\n",
       "      <td>0.9</td>\n",
       "      <td>0.5</td>\n",
       "      <td>646094.5</td>\n",
       "      <td>1916.6</td>\n",
       "    </tr>\n",
       "    <tr>\n",
       "      <th>21</th>\n",
       "      <td>2707907</td>\n",
       "      <td>3.074560e+09</td>\n",
       "      <td>3</td>\n",
       "      <td>127500</td>\n",
       "      <td>127500.0</td>\n",
       "      <td>1954</td>\n",
       "      <td>1</td>\n",
       "      <td>100</td>\n",
       "      <td>72.0</td>\n",
       "      <td>111.8</td>\n",
       "      <td>115.4</td>\n",
       "      <td>5.3</td>\n",
       "      <td>0.6</td>\n",
       "      <td>678001.6</td>\n",
       "      <td>354.7</td>\n",
       "    </tr>\n",
       "    <tr>\n",
       "      <th>22</th>\n",
       "      <td>4855845</td>\n",
       "      <td>1.010710e+09</td>\n",
       "      <td>4</td>\n",
       "      <td>319967</td>\n",
       "      <td>319967.0</td>\n",
       "      <td>1998</td>\n",
       "      <td>1</td>\n",
       "      <td>95</td>\n",
       "      <td>76.0</td>\n",
       "      <td>110.8</td>\n",
       "      <td>114.7</td>\n",
       "      <td>3.5</td>\n",
       "      <td>0.7</td>\n",
       "      <td>1124985.6</td>\n",
       "      <td>1172.0</td>\n",
       "    </tr>\n",
       "    <tr>\n",
       "      <th>24</th>\n",
       "      <td>2678604</td>\n",
       "      <td>3.001470e+09</td>\n",
       "      <td>3</td>\n",
       "      <td>913378</td>\n",
       "      <td>871546.0</td>\n",
       "      <td>1991</td>\n",
       "      <td>1</td>\n",
       "      <td>100</td>\n",
       "      <td>64.0</td>\n",
       "      <td>222.0</td>\n",
       "      <td>222.8</td>\n",
       "      <td>17.7</td>\n",
       "      <td>0.3</td>\n",
       "      <td>16455348.4</td>\n",
       "      <td>1560.0</td>\n",
       "    </tr>\n",
       "    <tr>\n",
       "      <th>50</th>\n",
       "      <td>3296567</td>\n",
       "      <td>1.012700e+09</td>\n",
       "      <td>4</td>\n",
       "      <td>200000</td>\n",
       "      <td>200000.0</td>\n",
       "      <td>1899</td>\n",
       "      <td>1</td>\n",
       "      <td>100</td>\n",
       "      <td>59.0</td>\n",
       "      <td>207.0</td>\n",
       "      <td>207.9</td>\n",
       "      <td>18.4</td>\n",
       "      <td>0.1</td>\n",
       "      <td>3679123.0</td>\n",
       "      <td>107.5</td>\n",
       "    </tr>\n",
       "    <tr>\n",
       "      <th>51</th>\n",
       "      <td>2804420</td>\n",
       "      <td>4.097930e+09</td>\n",
       "      <td>7</td>\n",
       "      <td>54978</td>\n",
       "      <td>54978.0</td>\n",
       "      <td>1952</td>\n",
       "      <td>1</td>\n",
       "      <td>90</td>\n",
       "      <td>90.0</td>\n",
       "      <td>104.6</td>\n",
       "      <td>105.5</td>\n",
       "      <td>9.0</td>\n",
       "      <td>0.0</td>\n",
       "      <td>494101.3</td>\n",
       "      <td>32.1</td>\n",
       "    </tr>\n",
       "    <tr>\n",
       "      <th>55</th>\n",
       "      <td>2653186</td>\n",
       "      <td>1.008868e+09</td>\n",
       "      <td>4</td>\n",
       "      <td>75000</td>\n",
       "      <td>75000.0</td>\n",
       "      <td>1989</td>\n",
       "      <td>1</td>\n",
       "      <td>100</td>\n",
       "      <td>97.0</td>\n",
       "      <td>79.9</td>\n",
       "      <td>79.9</td>\n",
       "      <td>2.6</td>\n",
       "      <td>0.0</td>\n",
       "      <td>196000.0</td>\n",
       "      <td>288.6</td>\n",
       "    </tr>\n",
       "    <tr>\n",
       "      <th>57</th>\n",
       "      <td>2809107</td>\n",
       "      <td>4.012750e+09</td>\n",
       "      <td>7</td>\n",
       "      <td>104500</td>\n",
       "      <td>104500.0</td>\n",
       "      <td>1944</td>\n",
       "      <td>1</td>\n",
       "      <td>100</td>\n",
       "      <td>91.0</td>\n",
       "      <td>92.2</td>\n",
       "      <td>100.4</td>\n",
       "      <td>0.7</td>\n",
       "      <td>0.9</td>\n",
       "      <td>75129.6</td>\n",
       "      <td>446.9</td>\n",
       "    </tr>\n",
       "    <tr>\n",
       "      <th>59</th>\n",
       "      <td>2813205</td>\n",
       "      <td>4.114210e+09</td>\n",
       "      <td>7</td>\n",
       "      <td>120700</td>\n",
       "      <td>120700.0</td>\n",
       "      <td>1959</td>\n",
       "      <td>1</td>\n",
       "      <td>100</td>\n",
       "      <td>4.0</td>\n",
       "      <td>168.7</td>\n",
       "      <td>173.7</td>\n",
       "      <td>6.6</td>\n",
       "      <td>1.0</td>\n",
       "      <td>793803.0</td>\n",
       "      <td>594.3</td>\n",
       "    </tr>\n",
       "    <tr>\n",
       "      <th>60</th>\n",
       "      <td>2813205</td>\n",
       "      <td>4.114210e+09</td>\n",
       "      <td>7</td>\n",
       "      <td>120700</td>\n",
       "      <td>120700.0</td>\n",
       "      <td>1959</td>\n",
       "      <td>1</td>\n",
       "      <td>100</td>\n",
       "      <td>4.0</td>\n",
       "      <td>168.7</td>\n",
       "      <td>173.7</td>\n",
       "      <td>6.6</td>\n",
       "      <td>1.0</td>\n",
       "      <td>793803.0</td>\n",
       "      <td>594.3</td>\n",
       "    </tr>\n",
       "  </tbody>\n",
       "</table>\n",
       "</div>"
      ],
      "text/plain": [
       "    Property Id  BBL - 10 digits  Borough  \\\n",
       "0       4593574     1.010288e+09        4   \n",
       "1       2967701     4.018720e+09        7   \n",
       "2       4898531     1.008290e+09        4   \n",
       "3       2917939     1.008280e+09        4   \n",
       "8       2815759     4.026110e+09        7   \n",
       "11      4865941     3.002810e+09        3   \n",
       "21      2707907     3.074560e+09        3   \n",
       "22      4855845     1.010710e+09        4   \n",
       "24      2678604     3.001470e+09        3   \n",
       "50      3296567     1.012700e+09        4   \n",
       "51      2804420     4.097930e+09        7   \n",
       "55      2653186     1.008868e+09        4   \n",
       "57      2809107     4.012750e+09        7   \n",
       "59      2813205     4.114210e+09        7   \n",
       "60      2813205     4.114210e+09        7   \n",
       "\n",
       "    Self-Reported Gross Floor Area (ft²)  \\\n",
       "0                                 169416   \n",
       "1                                  94380   \n",
       "2                                 125000   \n",
       "3                                  50000   \n",
       "8                                 200000   \n",
       "11                                721396   \n",
       "21                                127500   \n",
       "22                                319967   \n",
       "24                                913378   \n",
       "50                                200000   \n",
       "51                                 54978   \n",
       "55                                 75000   \n",
       "57                                104500   \n",
       "59                                120700   \n",
       "60                                120700   \n",
       "\n",
       "    Largest Property Use Type - Gross Floor Area (ft²)  Year Built  \\\n",
       "0                                            164754.0         1909   \n",
       "1                                             94380.0         1963   \n",
       "2                                            125000.0         1999   \n",
       "3                                             50000.0         1994   \n",
       "8                                            200000.0         1950   \n",
       "11                                           721396.0         1931   \n",
       "21                                           127500.0         1954   \n",
       "22                                           319967.0         1998   \n",
       "24                                           871546.0         1991   \n",
       "50                                           200000.0         1899   \n",
       "51                                            54978.0         1952   \n",
       "55                                            75000.0         1989   \n",
       "57                                           104500.0         1944   \n",
       "59                                           120700.0         1959   \n",
       "60                                           120700.0         1959   \n",
       "\n",
       "    Number of Buildings  Occupancy  ENERGY STAR Score  Source EUI (kBtu/ft²)  \\\n",
       "0                     1         95               90.0                  138.4   \n",
       "1                     1        100              100.0                   43.5   \n",
       "2                     1         85               83.0                  271.1   \n",
       "3                     1        100               27.0                  163.0   \n",
       "8                     1        100               37.0                   99.2   \n",
       "11                    1        100               97.0                   62.1   \n",
       "21                    1        100               72.0                  111.8   \n",
       "22                    1         95               76.0                  110.8   \n",
       "24                    1        100               64.0                  222.0   \n",
       "50                    1        100               59.0                  207.0   \n",
       "51                    1         90               90.0                  104.6   \n",
       "55                    1        100               97.0                   79.9   \n",
       "57                    1        100               91.0                   92.2   \n",
       "59                    1        100                4.0                  168.7   \n",
       "60                    1        100                4.0                  168.7   \n",
       "\n",
       "    Weather Normalized Source EUI (kBtu/ft²)  \\\n",
       "0                                      141.0   \n",
       "1                                       46.8   \n",
       "2                                      274.7   \n",
       "3                                      167.9   \n",
       "8                                      103.2   \n",
       "11                                      61.7   \n",
       "21                                     115.4   \n",
       "22                                     114.7   \n",
       "24                                     222.8   \n",
       "50                                     207.9   \n",
       "51                                     105.5   \n",
       "55                                      79.9   \n",
       "57                                     100.4   \n",
       "59                                     173.7   \n",
       "60                                     173.7   \n",
       "\n",
       "    Weather Normalized Site Electricity Intensity (kWh/ft²)  \\\n",
       "0                                                11.3         \n",
       "1                                                 2.0         \n",
       "2                                                18.8         \n",
       "3                                                11.7         \n",
       "8                                                 7.8         \n",
       "11                                                0.9         \n",
       "21                                                5.3         \n",
       "22                                                3.5         \n",
       "24                                               17.7         \n",
       "50                                               18.4         \n",
       "51                                                9.0         \n",
       "55                                                2.6         \n",
       "57                                                0.7         \n",
       "59                                                6.6         \n",
       "60                                                6.6         \n",
       "\n",
       "    Weather Normalized Site Natural Gas Intensity (therms/ft²)  \\\n",
       "0                                                 0.1            \n",
       "1                                                 0.2            \n",
       "2                                                 0.7            \n",
       "3                                                 0.4            \n",
       "8                                                 0.2            \n",
       "11                                                0.5            \n",
       "21                                                0.6            \n",
       "22                                                0.7            \n",
       "24                                                0.3            \n",
       "50                                                0.1            \n",
       "51                                                0.0            \n",
       "55                                                0.0            \n",
       "57                                                0.9            \n",
       "59                                                1.0            \n",
       "60                                                1.0            \n",
       "\n",
       "    Weather Normalized Site Electricity (kWh)  \\\n",
       "0                                   1920103.6   \n",
       "1                                    184131.9   \n",
       "2                                   2354605.3   \n",
       "3                                    582516.1   \n",
       "8                                   1556499.9   \n",
       "11                                   646094.5   \n",
       "21                                   678001.6   \n",
       "22                                  1124985.6   \n",
       "24                                 16455348.4   \n",
       "50                                  3679123.0   \n",
       "51                                   494101.3   \n",
       "55                                   196000.0   \n",
       "57                                    75129.6   \n",
       "59                                   793803.0   \n",
       "60                                   793803.0   \n",
       "\n",
       "    Direct GHG Emissions (Metric Tons CO2e)  \n",
       "0                                      76.3  \n",
       "1                                     109.9  \n",
       "2                                     438.0  \n",
       "3                                      98.2  \n",
       "8                                     172.3  \n",
       "11                                   1916.6  \n",
       "21                                    354.7  \n",
       "22                                   1172.0  \n",
       "24                                   1560.0  \n",
       "50                                    107.5  \n",
       "51                                     32.1  \n",
       "55                                    288.6  \n",
       "57                                    446.9  \n",
       "59                                    594.3  \n",
       "60                                    594.3  "
      ]
     },
     "execution_count": 65,
     "metadata": {},
     "output_type": "execute_result"
    }
   ],
   "source": [
    "df.head(15)"
   ]
  },
  {
   "cell_type": "markdown",
   "metadata": {},
   "source": [
    "```Займемся построением моделей```"
   ]
  },
  {
   "cell_type": "code",
   "execution_count": 108,
   "metadata": {},
   "outputs": [],
   "source": [
    "Y = df['ENERGY STAR Score']\n",
    "X = df.drop(['ENERGY STAR Score'], axis=1)"
   ]
  },
  {
   "cell_type": "code",
   "execution_count": 109,
   "metadata": {},
   "outputs": [
    {
     "name": "stdout",
     "output_type": "stream",
     "text": [
      "Размерность Х: (20164, 14)\n",
      "Размерность Y: (20164,)\n"
     ]
    }
   ],
   "source": [
    "print(f'Размерность Х: {X.shape}')\n",
    "print(f'Размерность Y: {Y.shape}')"
   ]
  },
  {
   "cell_type": "code",
   "execution_count": 110,
   "metadata": {},
   "outputs": [],
   "source": [
    "X_train, X_test, Y_train, Y_test = train_test_split(X,Y, test_size=0.2, random_state=42)"
   ]
  },
  {
   "cell_type": "code",
   "execution_count": 111,
   "metadata": {},
   "outputs": [
    {
     "name": "stdout",
     "output_type": "stream",
     "text": [
      "Размерность X_train: (16131, 14)\n",
      "Размерность X_test: (4033, 14)\n",
      "Размерность Y_train: (16131,)\n",
      "Размерность Y_test: (4033,)\n"
     ]
    }
   ],
   "source": [
    "print(f'Размерность X_train: {X_train.shape}')\n",
    "print(f'Размерность X_test: {X_test.shape}')\n",
    "print(f'Размерность Y_train: {Y_train.shape}')\n",
    "print(f'Размерность Y_test: {Y_test.shape}')"
   ]
  },
  {
   "cell_type": "code",
   "execution_count": 119,
   "metadata": {},
   "outputs": [
    {
     "name": "stdout",
     "output_type": "stream",
     "text": [
      "\n",
      "---------- RandomForestRegressor ----------\n",
      "MSE: 175.98988333740104\n",
      "RMSE: 13.266117869874405\n",
      "MAE: 8.879348845977287\n",
      "R2_score: 0.8268391785796502\n"
     ]
    }
   ],
   "source": [
    "RFG = RandomForestRegressor(random_state=42,criterion='squared_error', n_jobs=-1) \n",
    "RFG.fit(X_train, Y_train)\n",
    "Y_pred = RFG.predict(X_test)\n",
    "print(f\"\\n{10*'-'} RandomForestRegressor {10*'-'}\")\n",
    "print(f'MSE: {mean_squared_error(Y_test,Y_pred)}')\n",
    "print(f'RMSE: {np.sqrt(mean_squared_error(Y_test, Y_pred))}')\n",
    "print(f'MAE: {mean_absolute_error(Y_test, Y_pred)}')\n",
    "print(f'R2_score: {r2_score(Y_test, Y_pred)}')\n",
    "\n"
   ]
  },
  {
   "cell_type": "markdown",
   "metadata": {},
   "source": [
    "```Применим GridSearchCV```"
   ]
  },
  {
   "cell_type": "code",
   "execution_count": 116,
   "metadata": {},
   "outputs": [],
   "source": [
    "param_grid = {'n_estimators': np.arange(50, 101, 50),\n",
    "              'min_samples_split' : np.arange(1,3),\n",
    "              }"
   ]
  },
  {
   "cell_type": "code",
   "execution_count": 118,
   "metadata": {},
   "outputs": [
    {
     "name": "stderr",
     "output_type": "stream",
     "text": [
      "C:\\Users\\User\\anaconda\\lib\\site-packages\\sklearn\\model_selection\\_validation.py:372: FitFailedWarning: \n",
      "10 fits failed out of a total of 20.\n",
      "The score on these train-test partitions for these parameters will be set to nan.\n",
      "If these failures are not expected, you can try to debug them by setting error_score='raise'.\n",
      "\n",
      "Below are more details about the failures:\n",
      "--------------------------------------------------------------------------------\n",
      "10 fits failed with the following error:\n",
      "joblib.externals.loky.process_executor._RemoteTraceback: \n",
      "\"\"\"\n",
      "Traceback (most recent call last):\n",
      "  File \"C:\\Users\\User\\anaconda\\lib\\site-packages\\joblib\\externals\\loky\\process_executor.py\", line 431, in _process_worker\n",
      "    r = call_item()\n",
      "  File \"C:\\Users\\User\\anaconda\\lib\\site-packages\\joblib\\externals\\loky\\process_executor.py\", line 285, in __call__\n",
      "    return self.fn(*self.args, **self.kwargs)\n",
      "  File \"C:\\Users\\User\\anaconda\\lib\\site-packages\\joblib\\_parallel_backends.py\", line 595, in __call__\n",
      "    return self.func(*args, **kwargs)\n",
      "  File \"C:\\Users\\User\\anaconda\\lib\\site-packages\\joblib\\parallel.py\", line 262, in __call__\n",
      "    return [func(*args, **kwargs)\n",
      "  File \"C:\\Users\\User\\anaconda\\lib\\site-packages\\joblib\\parallel.py\", line 262, in <listcomp>\n",
      "    return [func(*args, **kwargs)\n",
      "  File \"C:\\Users\\User\\anaconda\\lib\\site-packages\\sklearn\\utils\\fixes.py\", line 209, in __call__\n",
      "    return self.function(*args, **kwargs)\n",
      "  File \"C:\\Users\\User\\anaconda\\lib\\site-packages\\sklearn\\ensemble\\_forest.py\", line 184, in _parallel_build_trees\n",
      "    tree.fit(X, y, sample_weight=curr_sample_weight, check_input=False)\n",
      "  File \"C:\\Users\\User\\anaconda\\lib\\site-packages\\sklearn\\tree\\_classes.py\", line 1315, in fit\n",
      "    super().fit(\n",
      "  File \"C:\\Users\\User\\anaconda\\lib\\site-packages\\sklearn\\tree\\_classes.py\", line 250, in fit\n",
      "    raise ValueError(\n",
      "ValueError: min_samples_split must be an integer greater than 1 or a float in (0.0, 1.0]; got the integer 1\n",
      "\"\"\"\n",
      "\n",
      "The above exception was the direct cause of the following exception:\n",
      "\n",
      "Traceback (most recent call last):\n",
      "  File \"C:\\Users\\User\\anaconda\\lib\\site-packages\\sklearn\\model_selection\\_validation.py\", line 681, in _fit_and_score\n",
      "    estimator.fit(X_train, y_train, **fit_params)\n",
      "  File \"C:\\Users\\User\\anaconda\\lib\\site-packages\\sklearn\\ensemble\\_forest.py\", line 441, in fit\n",
      "    trees = Parallel(\n",
      "  File \"C:\\Users\\User\\anaconda\\lib\\site-packages\\joblib\\parallel.py\", line 1061, in __call__\n",
      "    self.retrieve()\n",
      "  File \"C:\\Users\\User\\anaconda\\lib\\site-packages\\joblib\\parallel.py\", line 940, in retrieve\n",
      "    self._output.extend(job.get(timeout=self.timeout))\n",
      "  File \"C:\\Users\\User\\anaconda\\lib\\site-packages\\joblib\\_parallel_backends.py\", line 542, in wrap_future_result\n",
      "    return future.result(timeout=timeout)\n",
      "  File \"C:\\Users\\User\\anaconda\\lib\\concurrent\\futures\\_base.py\", line 439, in result\n",
      "    return self.__get_result()\n",
      "  File \"C:\\Users\\User\\anaconda\\lib\\concurrent\\futures\\_base.py\", line 388, in __get_result\n",
      "    raise self._exception\n",
      "ValueError: min_samples_split must be an integer greater than 1 or a float in (0.0, 1.0]; got the integer 1\n",
      "\n",
      "  warnings.warn(some_fits_failed_message, FitFailedWarning)\n",
      "C:\\Users\\User\\anaconda\\lib\\site-packages\\sklearn\\model_selection\\_search.py:969: UserWarning: One or more of the test scores are non-finite: [         nan          nan -13.80948314 -13.71175456]\n",
      "  warnings.warn(\n"
     ]
    },
    {
     "name": "stdout",
     "output_type": "stream",
     "text": [
      "\n",
      "---------- RandomForestRegressor + GridSearchCV ----------\n",
      "MSE: 175.98988333740104\n",
      "RMSE: 13.266117869874405\n",
      "MAE: 8.879348845977287\n",
      "R2_score: 0.8268391785796502\n"
     ]
    }
   ],
   "source": [
    "search = GridSearchCV(RFG, param_grid, cv=5, scoring='neg_root_mean_squared_error', refit=True)\n",
    "search.fit(X_train, Y_train)\n",
    "Y_pred = search.best_estimator_.predict(X_test)\n",
    "print(f\"\\n{10*'-'} RandomForestRegressor + GridSearchCV {10*'-'}\")\n",
    "print(f'MSE: {mean_squared_error(Y_test, Y_pred)}')\n",
    "print(f'RMSE: {np.sqrt(mean_squared_error(Y_test, Y_pred))}')\n",
    "print(f'MAE: {mean_absolute_error(Y_test, Y_pred)}')\n",
    "print(f'R2_score: {r2_score(Y_test, Y_pred)}')\n"
   ]
  },
  {
   "cell_type": "code",
   "execution_count": 113,
   "metadata": {},
   "outputs": [
    {
     "name": "stdout",
     "output_type": "stream",
     "text": [
      "\n",
      "---------- LinearRegression ----------\n",
      "MSE: 10035.092511447026\n",
      "RMSE: 100.17530889119847\n",
      "MAE: 26.839963909687302\n",
      "R2_score: -8.873776999896897\n"
     ]
    }
   ],
   "source": [
    "LR = LinearRegression()\n",
    "LR.fit(X_train, Y_train)\n",
    "Y_pred = LR.predict(X_test)\n",
    "print(f\"\\n{10*'-'} LinearRegression {10*'-'}\")\n",
    "print(f'MSE: {mean_squared_error(Y_test, Y_pred)}')\n",
    "print(f'RMSE: {np.sqrt(mean_squared_error(Y_test, Y_pred))}')\n",
    "print(f'MAE: {mean_absolute_error(Y_test, Y_pred)}')\n",
    "print(f'R2_score: {r2_score(Y_test, Y_pred)}')\n",
    "\n"
   ]
  },
  {
   "cell_type": "code",
   "execution_count": 114,
   "metadata": {},
   "outputs": [],
   "source": [
    "from xgboost import XGBRegressor"
   ]
  },
  {
   "cell_type": "code",
   "execution_count": 115,
   "metadata": {},
   "outputs": [
    {
     "name": "stdout",
     "output_type": "stream",
     "text": [
      "\n",
      "---------- XGBRegressor ----------\n",
      "MSE: 185.12282269968455\n",
      "RMSE: 13.605984811827645\n",
      "MAE: 9.649756794396817\n",
      "R2_score: 0.8178530524912355\n"
     ]
    }
   ],
   "source": [
    "xgb = XGBRegressor(random_state=42)\n",
    "xgb.fit(X_train, Y_train)\n",
    "Y_pred = xgb.predict(X_test)\n",
    "print(f\"\\n{10*'-'} XGBRegressor {10*'-'}\")\n",
    "print(f'MSE: {mean_squared_error(Y_test, Y_pred)}')\n",
    "print(f'RMSE: {np.sqrt(mean_squared_error(Y_test, Y_pred))}')\n",
    "print(f'MAE: {mean_absolute_error(Y_test, Y_pred)}')\n",
    "print(f'R2_score: {r2_score(Y_test, Y_pred)}')\n",
    "\n"
   ]
  },
  {
   "cell_type": "code",
   "execution_count": 123,
   "metadata": {},
   "outputs": [
    {
     "data": {
      "text/plain": [
       "count    20164.000000\n",
       "mean        51.809810\n",
       "std         31.766324\n",
       "min          1.000000\n",
       "25%         24.000000\n",
       "50%         53.000000\n",
       "75%         80.000000\n",
       "max        100.000000\n",
       "Name: ENERGY STAR Score, dtype: float64"
      ]
     },
     "execution_count": 123,
     "metadata": {},
     "output_type": "execute_result"
    }
   ],
   "source": [
    "df['ENERGY STAR Score'].describe()"
   ]
  },
  {
   "cell_type": "code",
   "execution_count": 128,
   "metadata": {},
   "outputs": [
    {
     "data": {
      "image/png": "[encoded data removed]",
      "text/plain": [
       "<Figure size 432x288 with 1 Axes>"
      ]
     },
     "metadata": {
      "needs_background": "light"
     },
     "output_type": "display_data"
    }
   ],
   "source": [
    "plt.hist(df['ENERGY STAR Score'], bins=25);"
   ]
  },
  {
   "cell_type": "markdown",
   "metadata": {},
   "source": [
    "```Пока что лучшие результат: 13.26 на столько в среднем ошибается модель, что много, если учесть, что предсказывается число от 0 до 100. Можно попробовать заменить пропуски в исследуемой переменной на среднее/моду(в данном случае они равны), а не просто отбрасывать их.```"
   ]
  },
  {
   "cell_type": "code",
   "execution_count": null,
   "metadata": {},
   "outputs": [],
   "source": []
  }
 ],
 "metadata": {
  "kernelspec": {
   "display_name": "Python 3",
   "language": "python",
   "name": "python3"
  },
  "language_info": {
   "codemirror_mode": {
    "name": "ipython",
    "version": 3
   },
   "file_extension": ".py",
   "mimetype": "text/x-python",
   "name": "python",
   "nbconvert_exporter": "python",
   "pygments_lexer": "ipython3",
   "version": "3.8.5"
  }
 },
 "nbformat": 4,
 "nbformat_minor": 4
}
